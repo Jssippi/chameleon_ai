{
  "nbformat": 4,
  "nbformat_minor": 0,
  "metadata": {
    "colab": {
      "name": "Chameleon_Semantic_Similarity.ipynb",
      "provenance": [],
      "private_outputs": true,
      "collapsed_sections": [],
      "authorship_tag": "ABX9TyM8fDglx2OZ43d4Cr8CE9jn"
    },
    "kernelspec": {
      "name": "python3",
      "display_name": "Python 3"
    },
    "accelerator": "GPU"
  },
  "cells": [
    {
      "cell_type": "code",
      "metadata": {
        "id": "EmBphcRZEieV",
        "colab_type": "code",
        "colab": {}
      },
      "source": [
        "import tensorflow as tf\n",
        "import tensorflow_hub as hub\n",
        "import numpy as np\n",
        "from google.colab import drive\n",
        "from tqdm import tqdm\n",
        "import dill\n",
        "import numpy as np"
      ],
      "execution_count": null,
      "outputs": []
    },
    {
      "cell_type": "code",
      "metadata": {
        "id": "friJbihREsX2",
        "colab_type": "code",
        "colab": {}
      },
      "source": [
        "drive.mount('/content/drive')"
      ],
      "execution_count": null,
      "outputs": []
    },
    {
      "cell_type": "code",
      "metadata": {
        "id": "BDB4GsBIBxn-",
        "colab_type": "code",
        "colab": {}
      },
      "source": [
        "with open('/content/drive/My Drive/Chameleon_AI/Pickles/embeddings_dict.pkl', 'rb') as pkl:\n",
        "    embeddings_dict = dill.load(pkl)"
      ],
      "execution_count": null,
      "outputs": []
    },
    {
      "cell_type": "code",
      "metadata": {
        "id": "Yqc0eooTaiRf",
        "colab_type": "code",
        "colab": {}
      },
      "source": [
        "with open('/content/drive/My Drive/Chameleon_AI/Pickles/ai_word_bank_list.pkl', 'rb') as pkl:\n",
        "    ai_word_bank_list = dill.load(pkl)"
      ],
      "execution_count": null,
      "outputs": []
    },
    {
      "cell_type": "code",
      "metadata": {
        "id": "zLEP-ujoiCHX",
        "colab_type": "code",
        "colab": {}
      },
      "source": [
        "with open('/content/drive/My Drive/Chameleon_AI/Pickles/topic_dict.pkl', 'rb') as pkl:\n",
        "    topic_dict = dill.load(pkl)"
      ],
      "execution_count": null,
      "outputs": []
    },
    {
      "cell_type": "code",
      "metadata": {
        "id": "fExShI0rGZQF",
        "colab_type": "code",
        "colab": {}
      },
      "source": [
        "module_url = \"https://tfhub.dev/google/universal-sentence-encoder-large/5\""
      ],
      "execution_count": null,
      "outputs": []
    },
    {
      "cell_type": "code",
      "metadata": {
        "id": "dqU3eGxPGHPG",
        "colab_type": "code",
        "colab": {}
      },
      "source": [
        "USE_model = hub.load(module_url)"
      ],
      "execution_count": null,
      "outputs": []
    },
    {
      "cell_type": "code",
      "metadata": {
        "id": "fXEbXFfVOrL-",
        "colab_type": "code",
        "colab": {}
      },
      "source": [
        "def most_similar(phrase: str) -> str :\n",
        "    phrase_embedding = USE_model([phrase])\n",
        "    #current_word_embedding = \"\"\n",
        "    most_similar_value = 0\n",
        "    most_similar_string = \"\"\n",
        "    for word in ai_word_bank_list:\n",
        "        if word == phrase:\n",
        "            continue\n",
        "        if np.inner(phrase_embedding, embeddings_dict[word]) > most_similar_value:\n",
        "            most_similar_value = np.inner(phrase_embedding, embeddings_dict[word])\n",
        "            most_similar_string = word\n",
        "    return most_similar_string, most_similar_value"
      ],
      "execution_count": null,
      "outputs": []
    },
    {
      "cell_type": "code",
      "metadata": {
        "id": "sfcvmWJify0q",
        "colab_type": "code",
        "colab": {}
      },
      "source": [
        "most_similar(\"smoothie\")"
      ],
      "execution_count": null,
      "outputs": []
    },
    {
      "cell_type": "code",
      "metadata": {
        "id": "bcXKWPmvwhXt",
        "colab_type": "code",
        "colab": {}
      },
      "source": [
        "def build_similarity_dict (topic_dict: dict) -> dict :\n",
        "    similarity_dict = {}\n",
        "    for topic in topic_dict:\n",
        "        similarity_dict[topic] = {}\n",
        "        topic_literal = str(topic)\n",
        "        for word in tqdm(ai_word_bank_list):\n",
        "            if topic == word:\n",
        "                continue\n",
        "            else:\n",
        "                #print(topic)\n",
        "                similarity_dict[topic][word] = np.inner(embeddings_dict[word],\n",
        "                                                        embeddings_dict[topic])\n",
        "        for secret_word in topic_dict[topic]:\n",
        "            similarity_dict[secret_word] = {}\n",
        "            for element in tqdm(ai_word_bank_list):\n",
        "                if secret_word == word:\n",
        "                    continue\n",
        "                else:\n",
        "                    similarity_dict[secret_word][element] = \\\n",
        "                    np.inner(embeddings_dict[secret_word],\n",
        "                             embeddings_dict[element])\n",
        "    return similarity_dict"
      ],
      "execution_count": null,
      "outputs": []
    },
    {
      "cell_type": "code",
      "metadata": {
        "id": "65Xjaaa2FJrr",
        "colab_type": "code",
        "colab": {}
      },
      "source": [
        "similarity_dict = build_similarity_dict(topic_dict)"
      ],
      "execution_count": null,
      "outputs": []
    },
    {
      "cell_type": "code",
      "metadata": {
        "id": "TC2Vi6ioxVuB",
        "colab_type": "code",
        "colab": {}
      },
      "source": [
        "with open('/content/drive/My Drive/Chameleon_AI/Pickles/similarity_dict.pkl', 'wb') as pkl:\n",
        "    dill.dump(similarity_dict, pkl)"
      ],
      "execution_count": null,
      "outputs": []
    },
    {
      "cell_type": "code",
      "metadata": {
        "id": "x_Rrwo6FVvui",
        "colab_type": "code",
        "colab": {}
      },
      "source": [
        "#this won't make a difference again if this get's adressed earlier in the pipline\n",
        "delete_small_words_list = []\n",
        "for word in ai_word_bank_list:\n",
        "    if len(word) <= 2:\n",
        "        delete_small_words_list.append(word)"
      ],
      "execution_count": null,
      "outputs": []
    },
    {
      "cell_type": "code",
      "metadata": {
        "id": "g6JBZrLVW7s7",
        "colab_type": "code",
        "colab": {}
      },
      "source": [
        "for word in delete_small_words_list:\n",
        "    if word in ai_word_bank_list:\n",
        "        ai_word_bank_list.remove(word)"
      ],
      "execution_count": null,
      "outputs": []
    },
    {
      "cell_type": "code",
      "metadata": {
        "id": "kbSligNxYzXK",
        "colab_type": "code",
        "colab": {}
      },
      "source": [
        "with open('/content/drive/My Drive/Chameleon_AI/Pickles/ai_word_bank_list.pkl', 'wb') as pkl:\n",
        "    dill.dump(ai_word_bank_list, pkl)"
      ],
      "execution_count": null,
      "outputs": []
    },
    {
      "cell_type": "code",
      "metadata": {
        "id": "xKDSBxpDZLLR",
        "colab_type": "code",
        "colab": {}
      },
      "source": [
        "for word in delete_small_words_list:\n",
        "    embeddings_dict.pop(word)"
      ],
      "execution_count": null,
      "outputs": []
    },
    {
      "cell_type": "code",
      "metadata": {
        "id": "YDmmdP8saqtn",
        "colab_type": "code",
        "colab": {}
      },
      "source": [
        "with open('/content/drive/My Drive/Chameleon_AI/Pickles/embeddings_dict.pkl', 'wb') as pkl:\n",
        "    dill.dump(embeddings_dict, pkl)"
      ],
      "execution_count": null,
      "outputs": []
    },
    {
      "cell_type": "code",
      "metadata": {
        "colab_type": "code",
        "id": "Y_knXTVCbQ3i",
        "colab": {}
      },
      "source": [
        "def ai_player_guess(phrase: str) -> dict :\n",
        "    phrase = phrase.lower()\n",
        "    guessing_dict = {}\n",
        "    dict_element_counter = 0\n",
        "    phrase_embedding = USE_model([phrase])\n",
        "    #current_word_embedding = \"\"\n",
        "    minimum_similar_value = 0\n",
        "    minimum_similar_string = \"\"\n",
        "    for word in ai_word_bank_list:\n",
        "        if word == phrase or phrase[:3] in word:\n",
        "            continue\n",
        "        if dict_element_counter < 100:\n",
        "            dict_element_counter += 1\n",
        "            guessing_dict[word] = np.inner(phrase_embedding, embeddings_dict[word])  \n",
        "            minimum_similar_string = min(guessing_dict, key=guessing_dict.get)\n",
        "            #print(minimum_similar_string)\n",
        "            #print(smoothie_dict[word])\n",
        "            minimum_similar_value = guessing_dict[minimum_similar_string]            \n",
        "        \n",
        "        elif np.inner(phrase_embedding, embeddings_dict[word]) > minimum_similar_value:\n",
        "            guessing_dict.pop(minimum_similar_string)\n",
        "            guessing_dict[word] = np.inner(phrase_embedding, embeddings_dict[word])\n",
        "            minimum_similar_string = min(guessing_dict, key=guessing_dict.get)\n",
        "            minimum_similar_value = guessing_dict[minimum_similar_string]\n",
        "    \n",
        "    sorted_similar_words = sorted(guessing_dict.items(), key=lambda x: x[1],\n",
        "                                  reverse=True)\n",
        "\n",
        "    return sorted_similar_words\n",
        "    \n",
        "    #for i in sorted_similar_words:\n",
        "\t    #print(i[0], float(i[1]))"
      ],
      "execution_count": null,
      "outputs": []
    },
    {
      "cell_type": "code",
      "metadata": {
        "id": "yYNPViSnbYPh",
        "colab_type": "code",
        "colab": {}
      },
      "source": [
        "ai_player_guess('Math')"
      ],
      "execution_count": null,
      "outputs": []
    },
    {
      "cell_type": "code",
      "metadata": {
        "id": "Au7T3qOoczq4",
        "colab_type": "code",
        "colab": {}
      },
      "source": [
        "def score_calibrator(phrase: str):\n",
        "    high_list = []\n",
        "    low_list = []\n",
        "    fine_list = []\n",
        "    sorted_similar_words = ai_player_guess(phrase)\n",
        "    for i in sorted_similar_words:\n",
        "        choice =input(f\"Is *{i[0]}* with a score of {i[1]} too (h)ighly related,\"\\\n",
        "              f\" (l)lowly related, or just (f)ine?\")\n",
        "        if choice == 'h':\n",
        "            high_list.append(i)\n",
        "            print(f\"You added {i[0]} with {i[1]} as high similarity.\")\n",
        "        elif choice == 'l':\n",
        "            low_list.append(i)\n",
        "            print(f\"You added {i[0]} with {i[1]} as low similarity.\")\n",
        "        elif choice == 'f':\n",
        "            print(f\"You added {i[0]} with {i[1]} as fine similarity.\")\n",
        "            fine_list.append(i)\n",
        "        else:\n",
        "            print(f\"Error. {choice} is an invalid command.\")\n",
        "    return high_list, low_list, fine_list"
      ],
      "execution_count": null,
      "outputs": []
    },
    {
      "cell_type": "code",
      "metadata": {
        "id": "0EuTkxH8d3Gf",
        "colab_type": "code",
        "colab": {}
      },
      "source": [
        "high_list, low_list, fine_list = score_calibrator(\"Steam Engine\")"
      ],
      "execution_count": null,
      "outputs": []
    },
    {
      "cell_type": "code",
      "metadata": {
        "id": "hwHxhnPHdz_1",
        "colab_type": "code",
        "colab": {}
      },
      "source": [
        "low_list"
      ],
      "execution_count": null,
      "outputs": []
    },
    {
      "cell_type": "code",
      "metadata": {
        "id": "o7XBOaWwmVwi",
        "colab_type": "code",
        "colab": {}
      },
      "source": [
        "high_list"
      ],
      "execution_count": null,
      "outputs": []
    },
    {
      "cell_type": "code",
      "metadata": {
        "id": "-wtp_QLQmXaa",
        "colab_type": "code",
        "colab": {}
      },
      "source": [
        "fine_list"
      ],
      "execution_count": null,
      "outputs": []
    },
    {
      "cell_type": "code",
      "metadata": {
        "id": "_bfAeaTlnSHa",
        "colab_type": "code",
        "colab": {}
      },
      "source": [
        "gunpowder_string = 'gun powder'\n",
        "gunfight_string = 'gun fight'\n",
        "fightnight_string = 'fight night'"
      ],
      "execution_count": null,
      "outputs": []
    },
    {
      "cell_type": "code",
      "metadata": {
        "id": "dB5LHgn8oosW",
        "colab_type": "code",
        "colab": {}
      },
      "source": [
        "if gunpowder_string[:3] in gunfight_string:\n",
        "    print('too close')"
      ],
      "execution_count": null,
      "outputs": []
    },
    {
      "cell_type": "code",
      "metadata": {
        "id": "pKjz9krko0b4",
        "colab_type": "code",
        "colab": {}
      },
      "source": [
        "def string_checker(string1, string2):\n",
        "    if len(string1) >= 5 and len(string2) >= 5:\n",
        "        for index, letter in enumerate(string1):\n",
        "            if index <= (len(string1) - 5):\n",
        "                sub_string = string1[index : index + 5]\n",
        "                print(sub_string)\n",
        "                if sub_string in string2:\n",
        "                    print(\"it's a trap\")\n",
        "                    break"
      ],
      "execution_count": null,
      "outputs": []
    },
    {
      "cell_type": "code",
      "metadata": {
        "id": "s5KbJbCktpPx",
        "colab_type": "code",
        "colab": {}
      },
      "source": [
        "string_checker('gunfight', 'fight night')"
      ],
      "execution_count": null,
      "outputs": []
    },
    {
      "cell_type": "code",
      "metadata": {
        "id": "IUjFk5AEu1Cb",
        "colab_type": "code",
        "colab": {}
      },
      "source": [
        ""
      ],
      "execution_count": null,
      "outputs": []
    }
  ]
}