{
  "nbformat": 4,
  "nbformat_minor": 0,
  "metadata": {
    "colab": {
      "name": "Chameleon_Semantic_Similarity.ipynb",
      "provenance": [],
      "private_outputs": true,
      "collapsed_sections": [],
      "authorship_tag": "ABX9TyPGlEFegq18yb2p4pQFmd0H"
    },
    "kernelspec": {
      "name": "python3",
      "display_name": "Python 3"
    },
    "accelerator": "GPU"
  },
  "cells": [
    {
      "cell_type": "code",
      "metadata": {
        "id": "EmBphcRZEieV",
        "colab_type": "code",
        "colab": {}
      },
      "source": [
        "import tensorflow as tf\n",
        "import tensorflow_hub as hub\n",
        "import numpy as np\n",
        "from google.colab import drive\n",
        "from tqdm import tqdm\n",
        "import dill\n",
        "import numpy as np"
      ],
      "execution_count": null,
      "outputs": []
    },
    {
      "cell_type": "code",
      "metadata": {
        "id": "friJbihREsX2",
        "colab_type": "code",
        "colab": {}
      },
      "source": [
        "drive.mount('/content/drive')"
      ],
      "execution_count": null,
      "outputs": []
    },
    {
      "cell_type": "code",
      "metadata": {
        "id": "BDB4GsBIBxn-",
        "colab_type": "code",
        "colab": {}
      },
      "source": [
        "with open('/content/drive/My Drive/Chameleon_AI/Pickles/embeddings_dict.pkl', 'rb') as pkl:\n",
        "    embeddings_dict = dill.load(pkl)"
      ],
      "execution_count": null,
      "outputs": []
    },
    {
      "cell_type": "code",
      "metadata": {
        "id": "Yqc0eooTaiRf",
        "colab_type": "code",
        "colab": {}
      },
      "source": [
        "with open('/content/drive/My Drive/Chameleon_AI/Pickles/ai_word_bank_list.pkl', 'rb') as pkl:\n",
        "    ai_word_bank_list = dill.load(pkl)"
      ],
      "execution_count": null,
      "outputs": []
    },
    {
      "cell_type": "code",
      "metadata": {
        "id": "zLEP-ujoiCHX",
        "colab_type": "code",
        "colab": {}
      },
      "source": [
        "with open('/content/drive/My Drive/Chameleon_AI/Pickles/topic_dict.pkl', 'rb') as pkl:\n",
        "    topic_dict = dill.load(pkl)"
      ],
      "execution_count": null,
      "outputs": []
    },
    {
      "cell_type": "code",
      "metadata": {
        "id": "fExShI0rGZQF",
        "colab_type": "code",
        "colab": {}
      },
      "source": [
        "module_url = \"https://tfhub.dev/google/universal-sentence-encoder-large/5\""
      ],
      "execution_count": null,
      "outputs": []
    },
    {
      "cell_type": "code",
      "metadata": {
        "id": "dqU3eGxPGHPG",
        "colab_type": "code",
        "colab": {}
      },
      "source": [
        "USE_model = hub.load(module_url)"
      ],
      "execution_count": null,
      "outputs": []
    },
    {
      "cell_type": "code",
      "metadata": {
        "id": "fXEbXFfVOrL-",
        "colab_type": "code",
        "colab": {}
      },
      "source": [
        "def most_similar(phrase: str) -> str :\n",
        "    phrase_embedding = USE_model([phrase])\n",
        "    #current_word_embedding = \"\"\n",
        "    most_similar_value = 0\n",
        "    most_similar_string = \"\"\n",
        "    for word in ai_word_bank_list:\n",
        "        if word == phrase:\n",
        "            continue\n",
        "        if np.inner(phrase_embedding, embeddings_dict[word]) > most_similar_value:\n",
        "            most_similar_value = np.inner(phrase_embedding, embeddings_dict[word])\n",
        "            most_similar_string = word\n",
        "    return most_similar_string, most_similar_value"
      ],
      "execution_count": null,
      "outputs": []
    },
    {
      "cell_type": "code",
      "metadata": {
        "id": "sfcvmWJify0q",
        "colab_type": "code",
        "colab": {}
      },
      "source": [
        "most_similar(\"smoothie\")"
      ],
      "execution_count": null,
      "outputs": []
    },
    {
      "cell_type": "code",
      "metadata": {
        "id": "vjI7BhjwSp4o",
        "colab_type": "code",
        "colab": {}
      },
      "source": [
        "def ai_player_guess(phrase: str) -> dict :\n",
        "    smoothie_dict = {}\n",
        "    dict_element_counter = 0\n",
        "    phrase_embedding = USE_model([phrase])\n",
        "    #current_word_embedding = \"\"\n",
        "    minimum_similar_value = 0\n",
        "    minimum_similar_string = \"\"\n",
        "    for word in ai_word_bank_list:\n",
        "        if word == phrase:\n",
        "            continue\n",
        "        if dict_element_counter < 15:\n",
        "            dict_element_counter += 1\n",
        "            smoothie_dict[word] = np.inner(phrase_embedding, embeddings_dict[word])  \n",
        "            minimum_similar_string = min(smoothie_dict, key=smoothie_dict.get)\n",
        "            #print(minimum_similar_string)\n",
        "            #print(smoothie_dict[word])\n",
        "            minimum_similar_value = smoothie_dict[minimum_similar_string]            \n",
        "        \n",
        "        elif np.inner(phrase_embedding, embeddings_dict[word]) > minimum_similar_value:\n",
        "            smoothie_dict.pop(minimum_similar_string)\n",
        "            smoothie_dict[word] = np.inner(phrase_embedding, embeddings_dict[word])\n",
        "            minimum_similar_string = min(smoothie_dict, key=smoothie_dict.get)\n",
        "            minimum_similar_value = smoothie_dict[minimum_similar_string]\n",
        "          \n",
        "    return smoothie_dict"
      ],
      "execution_count": null,
      "outputs": []
    },
    {
      "cell_type": "code",
      "metadata": {
        "id": "7SdOO6tg8e6Y",
        "colab_type": "code",
        "colab": {}
      },
      "source": [
        "ai_player_guess('pudding')"
      ],
      "execution_count": null,
      "outputs": []
    },
    {
      "cell_type": "code",
      "metadata": {
        "id": "bcXKWPmvwhXt",
        "colab_type": "code",
        "colab": {}
      },
      "source": [
        "def build_similarity_dict (topic_dict: dict) -> dict :\n",
        "    similarity_dict = {}\n",
        "    for topic in topic_dict:\n",
        "        similarity_dict[topic] = {}\n",
        "        topic_literal = str(topic)\n",
        "        for word in tqdm(ai_word_bank_list):\n",
        "            if topic == word:\n",
        "                continue\n",
        "            else:\n",
        "                #print(topic)\n",
        "                similarity_dict[topic][word] = np.inner(embeddings_dict[word],\n",
        "                                                        embeddings_dict[topic])\n",
        "        for secret_word in topic_dict[topic]:\n",
        "            similarity_dict[secret_word] = {}\n",
        "            for element in tqdm(ai_word_bank_list):\n",
        "                if secret_word == word:\n",
        "                    continue\n",
        "                else:\n",
        "                    #print(type(secret_word))\n",
        "                    #print(secret_word)\n",
        "                    #print(type(element))\n",
        "                    #print(element)\n",
        "                    #print(type(embeddings_dict[secret_word]))\n",
        "\n",
        "                    #similarity_dict[secret_word][element] = \"fart\"\n",
        "\n",
        "                    similarity_dict[secret_word][element] = \\\n",
        "                    np.inner(embeddings_dict[secret_word],\n",
        "                             embeddings_dict[element])\n",
        "\n",
        "                    #np.inner(embeddings_dict[secret_word], embeddings_dict[element])\n",
        "    return similarity_dict"
      ],
      "execution_count": null,
      "outputs": []
    },
    {
      "cell_type": "code",
      "metadata": {
        "id": "cbzu0vT3PzLJ",
        "colab_type": "code",
        "colab": {}
      },
      "source": [
        "embeddings_dict['Math']"
      ],
      "execution_count": null,
      "outputs": []
    },
    {
      "cell_type": "code",
      "metadata": {
        "id": "65Xjaaa2FJrr",
        "colab_type": "code",
        "colab": {}
      },
      "source": [
        "similarity_dict = build_similarity_dict(topic_dict)"
      ],
      "execution_count": null,
      "outputs": []
    },
    {
      "cell_type": "code",
      "metadata": {
        "id": "TC2Vi6ioxVuB",
        "colab_type": "code",
        "colab": {}
      },
      "source": [
        "with open('/content/drive/My Drive/Chameleon_AI/Pickles/similarity_dict.pkl', 'wb') as pkl:\n",
        "    dill.dump(similarity_dict, pkl)"
      ],
      "execution_count": null,
      "outputs": []
    },
    {
      "cell_type": "code",
      "metadata": {
        "id": "7hkUTA8Wiyx1",
        "colab_type": "code",
        "colab": {}
      },
      "source": [
        "listicle.append(topic_dict)"
      ],
      "execution_count": null,
      "outputs": []
    },
    {
      "cell_type": "code",
      "metadata": {
        "id": "thwWYoammvYW",
        "colab_type": "code",
        "colab": {}
      },
      "source": [
        "type(listicle[0])"
      ],
      "execution_count": null,
      "outputs": []
    },
    {
      "cell_type": "code",
      "metadata": {
        "id": "hbqdpNq5mwJQ",
        "colab_type": "code",
        "colab": {}
      },
      "source": [
        "rooms_dict = {'bah': 1231231, \"ram\": 34242, \"ewe\": 231414}\n",
        "super_dict = {\"Rooms\": rooms_dict}"
      ],
      "execution_count": null,
      "outputs": []
    },
    {
      "cell_type": "code",
      "metadata": {
        "id": "j11YjlU1p4xu",
        "colab_type": "code",
        "colab": {}
      },
      "source": [
        "super_dict[ ]"
      ],
      "execution_count": null,
      "outputs": []
    },
    {
      "cell_type": "code",
      "metadata": {
        "id": "PkwPZAXro_-f",
        "colab_type": "code",
        "colab": {}
      },
      "source": [
        "outer_dictionary[1] = inner_dictionary"
      ],
      "execution_count": null,
      "outputs": []
    },
    {
      "cell_type": "code",
      "metadata": {
        "id": "beraeXFspEJ3",
        "colab_type": "code",
        "colab": {}
      },
      "source": [
        ""
      ],
      "execution_count": null,
      "outputs": []
    },
    {
      "cell_type": "code",
      "metadata": {
        "id": "iSrP8PYlpH4c",
        "colab_type": "code",
        "colab": {}
      },
      "source": [
        "outer_dictionary[1][1]"
      ],
      "execution_count": null,
      "outputs": []
    },
    {
      "cell_type": "code",
      "metadata": {
        "id": "BiI-HS5qpf8h",
        "colab_type": "code",
        "colab": {}
      },
      "source": [
        "chumba = dict()\n",
        "wumba = \"wumba\""
      ],
      "execution_count": null,
      "outputs": []
    },
    {
      "cell_type": "code",
      "metadata": {
        "id": "Z_4-0gfyzz04",
        "colab_type": "code",
        "colab": {}
      },
      "source": [
        "chumba[wumba] = {}"
      ],
      "execution_count": null,
      "outputs": []
    },
    {
      "cell_type": "code",
      "metadata": {
        "id": "EC4vmyJJndNu",
        "colab_type": "code",
        "colab": {}
      },
      "source": [
        "chumba[wumba][wumba] = wumba"
      ],
      "execution_count": null,
      "outputs": []
    },
    {
      "cell_type": "code",
      "metadata": {
        "id": "KiPWd7uwqdvt",
        "colab_type": "code",
        "colab": {}
      },
      "source": [
        "chumba"
      ],
      "execution_count": null,
      "outputs": []
    },
    {
      "cell_type": "code",
      "metadata": {
        "id": "IlnqG0ZgngIt",
        "colab_type": "code",
        "colab": {}
      },
      "source": [
        "chumba[wumba] "
      ],
      "execution_count": null,
      "outputs": []
    },
    {
      "cell_type": "code",
      "metadata": {
        "id": "pkwm-xOEniAi",
        "colab_type": "code",
        "colab": {}
      },
      "source": [
        ""
      ],
      "execution_count": null,
      "outputs": []
    }
  ]
}