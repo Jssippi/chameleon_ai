{
  "nbformat": 4,
  "nbformat_minor": 0,
  "metadata": {
    "colab": {
      "name": "Chameleon_Semantic_Similarity.ipynb",
      "provenance": [],
      "private_outputs": true,
      "authorship_tag": "ABX9TyNqoweWPVZ+M3zsLvtYaI5w"
    },
    "kernelspec": {
      "name": "python3",
      "display_name": "Python 3"
    }
  },
  "cells": [
    {
      "cell_type": "code",
      "metadata": {
        "id": "EmBphcRZEieV",
        "colab_type": "code",
        "colab": {}
      },
      "source": [
        "import tensorflow as tf\n",
        "import tensorflow_hub as hub\n",
        "import numpy as np\n",
        "from google.colab import drive\n",
        "from tqdm import tqdm\n",
        "import dill\n",
        "import numpy as np"
      ],
      "execution_count": null,
      "outputs": []
    },
    {
      "cell_type": "code",
      "metadata": {
        "id": "friJbihREsX2",
        "colab_type": "code",
        "colab": {}
      },
      "source": [
        "drive.mount('/content/drive')"
      ],
      "execution_count": null,
      "outputs": []
    },
    {
      "cell_type": "code",
      "metadata": {
        "id": "BDB4GsBIBxn-",
        "colab_type": "code",
        "colab": {}
      },
      "source": [
        "with open('/content/drive/My Drive/Chameleon_AI/Pickles/embeddings_dict.pkl', 'rb') as pkl:\n",
        "    embeddings_dict = dill.load(pkl)"
      ],
      "execution_count": null,
      "outputs": []
    },
    {
      "cell_type": "code",
      "metadata": {
        "id": "Yqc0eooTaiRf",
        "colab_type": "code",
        "colab": {}
      },
      "source": [
        "with open('/content/drive/My Drive/Chameleon_AI/Pickles/ai_word_bank_list.pkl', 'rb') as pkl:\n",
        "    ai_word_bank_list = dill.load(pkl)"
      ],
      "execution_count": null,
      "outputs": []
    },
    {
      "cell_type": "code",
      "metadata": {
        "id": "YgRTTylTawnX",
        "colab_type": "code",
        "colab": {}
      },
      "source": [
        "len(ai_word_bank_list)"
      ],
      "execution_count": null,
      "outputs": []
    },
    {
      "cell_type": "code",
      "metadata": {
        "id": "fExShI0rGZQF",
        "colab_type": "code",
        "colab": {}
      },
      "source": [
        "module_url = \"https://tfhub.dev/google/universal-sentence-encoder-large/5\""
      ],
      "execution_count": null,
      "outputs": []
    },
    {
      "cell_type": "code",
      "metadata": {
        "id": "dqU3eGxPGHPG",
        "colab_type": "code",
        "colab": {}
      },
      "source": [
        "USE_model = hub.load(module_url)"
      ],
      "execution_count": null,
      "outputs": []
    },
    {
      "cell_type": "code",
      "metadata": {
        "id": "fXEbXFfVOrL-",
        "colab_type": "code",
        "colab": {}
      },
      "source": [
        "def most_similar(phrase: str) -> str :\n",
        "    phrase_embedding = USE_model([phrase])\n",
        "    #current_word_embedding = \"\"\n",
        "    most_similar_value = 0\n",
        "    most_similar_string = \"\"\n",
        "    for word in ai_word_bank_list:\n",
        "        if word == phrase:\n",
        "            continue\n",
        "        if np.inner(phrase_embedding, embeddings_dict[word]) > most_similar_value:\n",
        "            most_similar_value = np.inner(phrase_embedding, embeddings_dict[word])\n",
        "            most_similar_string = word\n",
        "    return most_similar_string, most_similar_value"
      ],
      "execution_count": null,
      "outputs": []
    },
    {
      "cell_type": "code",
      "metadata": {
        "id": "sfcvmWJify0q",
        "colab_type": "code",
        "colab": {}
      },
      "source": [
        "most_similar(\"milkshake\")"
      ],
      "execution_count": null,
      "outputs": []
    },
    {
      "cell_type": "code",
      "metadata": {
        "id": "_RKDtRgBRg3K",
        "colab_type": "code",
        "colab": {}
      },
      "source": [
        "string = \"chumbawumba\"\n",
        "listicle = [string]\n",
        "print(listicle)"
      ],
      "execution_count": null,
      "outputs": []
    },
    {
      "cell_type": "code",
      "metadata": {
        "id": "vjI7BhjwSp4o",
        "colab_type": "code",
        "colab": {}
      },
      "source": [
        "def most_similar(phrase: str) -> str :\n",
        "    phrase_embedding = USE_model([phrase])\n",
        "    #current_word_embedding = \"\"\n",
        "    most_similar_value = 0\n",
        "    most_similar_string = \"\"\n",
        "    for word in ai_word_bank_list:\n",
        "        if word == phrase:\n",
        "            continue\n",
        "        if np.inner(phrase_embedding, embeddings_dict[word]) > most_similar_value:\n",
        "            most_similar_value = np.inner(phrase_embedding, embeddings_dict[word])\n",
        "            most_similar_string = word\n",
        "    return most_similar_string, most_similar_value"
      ],
      "execution_count": null,
      "outputs": []
    }
  ]
}