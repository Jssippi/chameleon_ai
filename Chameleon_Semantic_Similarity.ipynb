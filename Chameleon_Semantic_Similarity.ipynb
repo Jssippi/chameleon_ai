{
  "nbformat": 4,
  "nbformat_minor": 0,
  "metadata": {
    "colab": {
      "name": "Chameleon_Semantic_Similarity.ipynb",
      "provenance": [],
      "private_outputs": true,
      "collapsed_sections": [],
      "authorship_tag": "ABX9TyN4rtjXi4Ig2RX6uYEbiIPH"
    },
    "kernelspec": {
      "name": "python3",
      "display_name": "Python 3"
    }
  },
  "cells": [
    {
      "cell_type": "code",
      "metadata": {
        "id": "EmBphcRZEieV",
        "colab_type": "code",
        "colab": {}
      },
      "source": [
        "import tensorflow as tf\n",
        "import tensorflow_hub as hub\n",
        "import numpy as np\n",
        "from google.colab import drive\n",
        "from tqdm import tqdm\n",
        "import dill\n",
        "import numpy as np\n",
        "import random\n",
        "import copy"
      ],
      "execution_count": null,
      "outputs": []
    },
    {
      "cell_type": "code",
      "metadata": {
        "id": "friJbihREsX2",
        "colab_type": "code",
        "colab": {}
      },
      "source": [
        "drive.mount('/content/drive')"
      ],
      "execution_count": null,
      "outputs": []
    },
    {
      "cell_type": "code",
      "metadata": {
        "id": "BDB4GsBIBxn-",
        "colab_type": "code",
        "colab": {}
      },
      "source": [
        "with open('/content/drive/My Drive/Chameleon_AI/Pickles/embeddings_dict.pkl', 'rb') as pkl:\n",
        "    embeddings_dict = dill.load(pkl)"
      ],
      "execution_count": null,
      "outputs": []
    },
    {
      "cell_type": "code",
      "metadata": {
        "id": "Yqc0eooTaiRf",
        "colab_type": "code",
        "colab": {}
      },
      "source": [
        "with open('/content/drive/My Drive/Chameleon_AI/Pickles/ai_word_bank_list.pkl', 'rb') as pkl:\n",
        "    ai_word_bank_list = dill.load(pkl)"
      ],
      "execution_count": null,
      "outputs": []
    },
    {
      "cell_type": "code",
      "metadata": {
        "id": "zLEP-ujoiCHX",
        "colab_type": "code",
        "colab": {}
      },
      "source": [
        "with open('/content/drive/My Drive/Chameleon_AI/Pickles/topic_dict.pkl', 'rb') as pkl:\n",
        "    topic_dict = dill.load(pkl)"
      ],
      "execution_count": null,
      "outputs": []
    },
    {
      "cell_type": "code",
      "metadata": {
        "id": "N6d1rvC_HzHj",
        "colab_type": "code",
        "colab": {}
      },
      "source": [
        "#added later for further development\n",
        "with open('/content/drive/My Drive/Chameleon_AI/Pickles/similarity_dict.pkl', 'rb') as pkl:\n",
        "    similarity_dict = dill.load(pkl)"
      ],
      "execution_count": null,
      "outputs": []
    },
    {
      "cell_type": "code",
      "metadata": {
        "id": "fExShI0rGZQF",
        "colab_type": "code",
        "colab": {}
      },
      "source": [
        "module_url = \"https://tfhub.dev/google/universal-sentence-encoder-large/5\""
      ],
      "execution_count": null,
      "outputs": []
    },
    {
      "cell_type": "code",
      "metadata": {
        "id": "dqU3eGxPGHPG",
        "colab_type": "code",
        "colab": {}
      },
      "source": [
        "USE_model = hub.load(module_url)"
      ],
      "execution_count": null,
      "outputs": []
    },
    {
      "cell_type": "code",
      "metadata": {
        "id": "fXEbXFfVOrL-",
        "colab_type": "code",
        "colab": {}
      },
      "source": [
        "def most_similar(phrase: str) -> str :\n",
        "    phrase_embedding = USE_model([phrase])\n",
        "    #current_word_embedding = \"\"\n",
        "    most_similar_value = 0\n",
        "    most_similar_string = \"\"\n",
        "    for word in ai_word_bank_list:\n",
        "        if word == phrase:\n",
        "            continue\n",
        "        if np.inner(phrase_embedding, embeddings_dict[word]) > most_similar_value:\n",
        "            most_similar_value = np.inner(phrase_embedding, embeddings_dict[word])\n",
        "            most_similar_string = word\n",
        "    return most_similar_string, most_similar_value"
      ],
      "execution_count": null,
      "outputs": []
    },
    {
      "cell_type": "code",
      "metadata": {
        "id": "sfcvmWJify0q",
        "colab_type": "code",
        "colab": {}
      },
      "source": [
        "most_similar(\"smoothie\")"
      ],
      "execution_count": null,
      "outputs": []
    },
    {
      "cell_type": "code",
      "metadata": {
        "id": "bcXKWPmvwhXt",
        "colab_type": "code",
        "colab": {}
      },
      "source": [
        "def build_similarity_dict (topic_dict: dict) -> dict :\n",
        "    similarity_dict = {}\n",
        "    for topic in topic_dict:\n",
        "        similarity_dict[topic] = {}\n",
        "        for word in tqdm(ai_word_bank_list):\n",
        "            if topic == word:\n",
        "                continue\n",
        "            else:\n",
        "                #print(topic)\n",
        "                similarity_dict[topic][word] = np.inner(embeddings_dict[word],\n",
        "                                                        embeddings_dict[topic])\n",
        "        for secret_word in topic_dict[topic]:\n",
        "            similarity_dict[secret_word] = {}\n",
        "            for element in tqdm(ai_word_bank_list):\n",
        "                if secret_word == word:\n",
        "                    continue\n",
        "                else:\n",
        "                    similarity_dict[secret_word][element] = \\\n",
        "                    np.inner(embeddings_dict[secret_word],\n",
        "                             embeddings_dict[element])\n",
        "    return similarity_dict"
      ],
      "execution_count": null,
      "outputs": []
    },
    {
      "cell_type": "code",
      "metadata": {
        "id": "65Xjaaa2FJrr",
        "colab_type": "code",
        "colab": {}
      },
      "source": [
        "similarity_dict = build_similarity_dict(topic_dict)"
      ],
      "execution_count": null,
      "outputs": []
    },
    {
      "cell_type": "code",
      "metadata": {
        "id": "TC2Vi6ioxVuB",
        "colab_type": "code",
        "colab": {}
      },
      "source": [
        "#with open('/content/drive/My Drive/Chameleon_AI/Pickles/similarity_dict.pkl', 'wb') as pkl:\n",
        "#    dill.dump(similarity_dict, pkl)"
      ],
      "execution_count": null,
      "outputs": []
    },
    {
      "cell_type": "code",
      "metadata": {
        "id": "x_Rrwo6FVvui",
        "colab_type": "code",
        "colab": {}
      },
      "source": [
        "#this won't make a difference again if this gets adressed earlier in the pipline\n",
        "#delete_small_words_list = []\n",
        "#for word in ai_word_bank_list:\n",
        "#    if len(word) <= 2:\n",
        "#        delete_small_words_list.append(word)"
      ],
      "execution_count": null,
      "outputs": []
    },
    {
      "cell_type": "code",
      "metadata": {
        "id": "g6JBZrLVW7s7",
        "colab_type": "code",
        "colab": {}
      },
      "source": [
        "#this won't make a difference again if this gets adressed earlier in the pipline\n",
        "#for word in delete_small_words_list:\n",
        "#    if word in ai_word_bank_list:\n",
        "#        ai_word_bank_list.remove(word)"
      ],
      "execution_count": null,
      "outputs": []
    },
    {
      "cell_type": "code",
      "metadata": {
        "id": "kbSligNxYzXK",
        "colab_type": "code",
        "colab": {}
      },
      "source": [
        "#with open('/content/drive/My Drive/Chameleon_AI/Pickles/ai_word_bank_list.pkl', 'wb') as pkl:\n",
        "#    dill.dump(ai_word_bank_list, pkl)"
      ],
      "execution_count": null,
      "outputs": []
    },
    {
      "cell_type": "code",
      "metadata": {
        "id": "xKDSBxpDZLLR",
        "colab_type": "code",
        "colab": {}
      },
      "source": [
        "#for word in delete_small_words_list:\n",
        "#    embeddings_dict.pop(word)"
      ],
      "execution_count": null,
      "outputs": []
    },
    {
      "cell_type": "code",
      "metadata": {
        "id": "YDmmdP8saqtn",
        "colab_type": "code",
        "colab": {}
      },
      "source": [
        "#with open('/content/drive/My Drive/Chameleon_AI/Pickles/embeddings_dict.pkl', 'wb') as pkl:\n",
        "#    dill.dump(embeddings_dict, pkl)"
      ],
      "execution_count": null,
      "outputs": []
    },
    {
      "cell_type": "code",
      "metadata": {
        "colab_type": "code",
        "id": "Y_knXTVCbQ3i",
        "colab": {}
      },
      "source": [
        "def ai_player_guess(phrase: str) -> dict :\n",
        "    phrase = phrase.lower()\n",
        "    guessing_dict = {}\n",
        "    dict_element_counter = 0\n",
        "    phrase_embedding = USE_model([phrase])\n",
        "    #current_word_embedding = \"\"\n",
        "    minimum_similar_value = 0\n",
        "    minimum_similar_string = \"\"\n",
        "    for word in ai_word_bank_list:\n",
        "        if word == phrase or phrase[:3] in word:\n",
        "            continue\n",
        "        if dict_element_counter < 100:\n",
        "            dict_element_counter += 1\n",
        "            guessing_dict[word] = np.inner(phrase_embedding, embeddings_dict[word])  \n",
        "            minimum_similar_string = min(guessing_dict, key=guessing_dict.get)\n",
        "            #print(minimum_similar_string)\n",
        "            #print(smoothie_dict[word])\n",
        "            minimum_similar_value = guessing_dict[minimum_similar_string]            \n",
        "        \n",
        "        elif np.inner(phrase_embedding, embeddings_dict[word]) > minimum_similar_value:\n",
        "            guessing_dict.pop(minimum_similar_string)\n",
        "            guessing_dict[word] = np.inner(phrase_embedding, embeddings_dict[word])\n",
        "            minimum_similar_string = min(guessing_dict, key=guessing_dict.get)\n",
        "            minimum_similar_value = guessing_dict[minimum_similar_string]\n",
        "    \n",
        "    sorted_similar_words = sorted(guessing_dict.items(), key=lambda x: x[1],\n",
        "                                  reverse=True)\n",
        "\n",
        "    return sorted_similar_words\n",
        "    \n",
        "    #for i in sorted_similar_words:\n",
        "\t    #print(i[0], float(i[1]))"
      ],
      "execution_count": null,
      "outputs": []
    },
    {
      "cell_type": "code",
      "metadata": {
        "id": "Au7T3qOoczq4",
        "colab_type": "code",
        "colab": {}
      },
      "source": [
        "def score_calibrator(phrase: str):\n",
        "    high_list = []\n",
        "    low_list = []\n",
        "    fine_list = []\n",
        "    sorted_similar_words = ai_player_guess(phrase)\n",
        "    for i in sorted_similar_words:\n",
        "        choice =input(f\"Is *{i[0]}* with a score of {i[1]} too (h)ighly related,\"\\\n",
        "              f\" (l)lowly related, or just (f)ine?\")\n",
        "        if choice == 'h':\n",
        "            high_list.append(i)\n",
        "            print(f\"You added {i[0]} with {i[1]} as high similarity.\")\n",
        "        elif choice == 'l':\n",
        "            low_list.append(i)\n",
        "            print(f\"You added {i[0]} with {i[1]} as low similarity.\")\n",
        "        elif choice == 'f':\n",
        "            print(f\"You added {i[0]} with {i[1]} as fine similarity.\")\n",
        "            fine_list.append(i)\n",
        "        else:\n",
        "            print(f\"Error. {choice} is an invalid command.\")\n",
        "    return high_list, low_list, fine_list"
      ],
      "execution_count": null,
      "outputs": []
    },
    {
      "cell_type": "code",
      "metadata": {
        "id": "0EuTkxH8d3Gf",
        "colab_type": "code",
        "colab": {}
      },
      "source": [
        "high_list, low_list, fine_list = score_calibrator(\"Steam Engine\")"
      ],
      "execution_count": null,
      "outputs": []
    },
    {
      "cell_type": "code",
      "metadata": {
        "id": "pKjz9krko0b4",
        "colab_type": "code",
        "colab": {}
      },
      "source": [
        "def string_checker(string1, string2):\n",
        "    string1 = string1.lower()\n",
        "    string2= string2.lower()\n",
        "    if len(string1) >= 3:\n",
        "        if string1[:3] in string2:\n",
        "            return True\n",
        "    if len(string2) >= 3:\n",
        "        if string2[:3] in string1:\n",
        "            return True\n",
        "    if len(string1) >= 4 and len(string2) >= 4:\n",
        "        for index, letter in enumerate(string1):\n",
        "            if index <= (len(string1) - 4):\n",
        "                sub_string = string1[index : index + 4]\n",
        "                if sub_string in string2:\n",
        "                    return True\n",
        "    if len(string2) >= 4 and len(string1) >=4:\n",
        "        for index, letter in enumerate(string2):\n",
        "            if index <= (len(string2) - 4):\n",
        "                sub_string = string2[index : index +4]\n",
        "                if sub_string in string1:\n",
        "                    return True\n",
        "    return False"
      ],
      "execution_count": null,
      "outputs": []
    },
    {
      "cell_type": "code",
      "metadata": {
        "id": "s5KbJbCktpPx",
        "colab_type": "code",
        "colab": {}
      },
      "source": [
        "string_checker('Cruise Ship', 'ships')"
      ],
      "execution_count": null,
      "outputs": []
    },
    {
      "cell_type": "code",
      "metadata": {
        "id": "kCCuaCC2ki8c",
        "colab_type": "code",
        "colab": {}
      },
      "source": [
        "if string_checker('gun', 'gunfight'):\n",
        "    print('balls')"
      ],
      "execution_count": null,
      "outputs": []
    },
    {
      "cell_type": "code",
      "metadata": {
        "id": "TNQC1_YC8kp0",
        "colab_type": "code",
        "colab": {}
      },
      "source": [
        "def randomize_secret_word():\n",
        "    random_topic = random.choice(list(topic_dict))\n",
        "    topic_word_spread = topic_dict[random_topic]\n",
        "    secret_word = random.choice(topic_word_spread)\n",
        "    topic_word_spread.remove(secret_word)\n",
        "    return random_topic, topic_word_spread, secret_word"
      ],
      "execution_count": null,
      "outputs": []
    },
    {
      "cell_type": "code",
      "metadata": {
        "id": "cZbvyYips-6e",
        "colab_type": "code",
        "colab": {}
      },
      "source": [
        "the_topic, non_secret_words, the_secret_word = randomize_secret_word()\n",
        "print(f\"The topic is {the_topic}.\")\n",
        "print(f\"The non-secret words in this topic are {non_secret_words}.\")\n",
        "print(f\"The secret word is {the_secret_word}.\")"
      ],
      "execution_count": null,
      "outputs": []
    },
    {
      "cell_type": "code",
      "metadata": {
        "colab_type": "code",
        "id": "3gmaJkVt7bP8",
        "colab": {}
      },
      "source": [
        "def ai_player_hint():\n",
        "    topic, non_secret_words, secret_word = randomize_secret_word()\n",
        "    ai_available_words = copy.deepcopy(ai_word_bank_list)\n",
        "    try:\n",
        "        ai_available_words.remove(topic.lower())\n",
        "    except ValueError:\n",
        "        pass\n",
        "\n",
        "    for word in non_secret_words:\n",
        "        try:\n",
        "            ai_available_words.remove(word.lower())\n",
        "        except ValueError:\n",
        "            continue\n",
        "\n",
        "    print(secret_word)\n",
        "    still_search = True\n",
        "    \n",
        "    hint_candidate = hint_search(secret_word, topic,\n",
        "                                 non_secret_words, ai_available_words)\n",
        "    \n",
        "    print(f\"hint for {secret_word} is {hint_candidate} at \" \\\n",
        "          f\"{similarity_dict[secret_word][hint_candidate]}\")\n",
        "\n",
        "\n",
        "    return hint_candidate"
      ],
      "execution_count": null,
      "outputs": []
    },
    {
      "cell_type": "code",
      "metadata": {
        "id": "e5CGsSNuoQN0",
        "colab_type": "code",
        "colab": {}
      },
      "source": [
        "true_hint = ai_player_hint()"
      ],
      "execution_count": null,
      "outputs": []
    },
    {
      "cell_type": "code",
      "metadata": {
        "id": "8nqs4ujtncfv",
        "colab_type": "code",
        "colab": {}
      },
      "source": [
        "def hint_search(secret_word, topic, non_secret_words, ai_available_words):\n",
        "    while len(ai_available_words) >= 1:\n",
        "        print(len(ai_available_words))\n",
        "        hint_candidate = (random.choice(ai_available_words))\n",
        "        if string_checker(secret_word, hint_candidate):\n",
        "            ai_available_words.remove(hint_candidate)\n",
        "            continue\n",
        "        if similarity_dict[secret_word][hint_candidate] >= .48 and \\\n",
        "            similarity_dict[secret_word][hint_candidate] <= .52:\n",
        "            print(f\"secret {secret_word} matches with {hint_candidate} at \" \\\n",
        "                  f\"{similarity_dict[secret_word][hint_candidate]}.\")\n",
        "            if string_checker(hint_candidate, topic):\n",
        "                ai_available_words.remove(hint_candidate)\n",
        "                continue\n",
        "            if check_topic(hint_candidate, topic):\n",
        "                if check_non_secret_words(hint_candidate, non_secret_words):\n",
        "                    return hint_candidate\n",
        "                else:\n",
        "                    ai_available_words.remove(hint_candidate)\n",
        "                    continue            \n",
        "            else:\n",
        "                ai_available_words.remove(hint_candidate)\n",
        "                continue\n",
        "        else:\n",
        "            print(f\"Fail: secret {secret_word} no match with {hint_candidate} at \" \\\n",
        "                  f\"{similarity_dict[secret_word][hint_candidate]}.\")\n",
        "            ai_available_words.remove(hint_candidate)\n",
        "            #print('lets try again')\n",
        "            #print(hint_candidate)\n",
        "            #print(similarity_dict[secret_word][hint_candidate])"
      ],
      "execution_count": null,
      "outputs": []
    },
    {
      "cell_type": "code",
      "metadata": {
        "id": "SM6tHaOdVUy4",
        "colab_type": "code",
        "colab": {}
      },
      "source": [
        "def check_topic(hint_candidate, topic):\n",
        "    if similarity_dict[topic][hint_candidate] >= .2 and \\\n",
        "    similarity_dict[topic][hint_candidate] <= .785:\n",
        "        print(f\"{topic} topic match at{similarity_dict[topic][hint_candidate]}\")\n",
        "        return True\n",
        "    else:\n",
        "        print(f\"{topic} failure did not match at \" \\\n",
        "              f\"{similarity_dict[topic][hint_candidate]}\")\n",
        "        return False"
      ],
      "execution_count": null,
      "outputs": []
    },
    {
      "cell_type": "code",
      "metadata": {
        "id": "uaGNKTShv9lO",
        "colab_type": "code",
        "colab": {}
      },
      "source": [
        "def check_non_secret_words(hint_candidate, non_secret_words):\n",
        "    non_secret_options = copy.deepcopy(non_secret_words)\n",
        "    non_secret_success_count = 0\n",
        "    match_list = []\n",
        "    while len(non_secret_options) >= 1:\n",
        "        non_secret_word = random.choice(non_secret_options)\n",
        "        if string_checker(hint_candidate, non_secret_word):\n",
        "            return False\n",
        "        if similarity_dict[non_secret_word][hint_candidate] >= .41 and \\\n",
        "        similarity_dict[non_secret_word][hint_candidate] <= .785:\n",
        "            non_secret_success_count +=1\n",
        "            match_list.append(non_secret_word)\n",
        "            non_secret_options.remove(non_secret_word)\n",
        "        else:\n",
        "            non_secret_options.remove(non_secret_word)\n",
        "    \n",
        "    if non_secret_success_count >= 2:\n",
        "        print(f\"Success: {hint_candidate} matched with \" \\\n",
        "              f\"{non_secret_success_count} words.\")\n",
        "        print(match_list)\n",
        "        return True\n",
        "    else:\n",
        "        print(f\"Failure: {hint_candidate} matched with \" \\\n",
        "              f\"{non_secret_success_count} words.\")\n",
        "        return False"
      ],
      "execution_count": null,
      "outputs": []
    },
    {
      "cell_type": "code",
      "metadata": {
        "id": "0gxHEWsvytVf",
        "colab_type": "code",
        "colab": {}
      },
      "source": [
        ""
      ],
      "execution_count": null,
      "outputs": []
    },
    {
      "cell_type": "code",
      "metadata": {
        "id": "zTRS7HuXYyO8",
        "colab_type": "code",
        "colab": {}
      },
      "source": [
        "def go_through_all_options():\n",
        "    for topic in topic_dict:\n",
        "        topic_word_spread = topic_dict[topic]\n",
        "        for secret_word in topic_dict[topic]:\n",
        "            ai_player_hint_limit(topic, non_secret_words, secret_word)"
      ],
      "execution_count": null,
      "outputs": []
    },
    {
      "cell_type": "code",
      "metadata": {
        "id": "WCfVxVOdYkwX",
        "colab_type": "code",
        "colab": {}
      },
      "source": [
        "def randomize_secret_word():\n",
        "    random_topic = random.choice(list(topic_dict))\n",
        "    topic_word_spread = topic_dict[random_topic]\n",
        "    secret_word = random.choice(topic_word_spread)\n",
        "    topic_word_spread.remove(secret_word)\n",
        "    return random_topic, topic_word_spread, secret_word"
      ],
      "execution_count": null,
      "outputs": []
    },
    {
      "cell_type": "code",
      "metadata": {
        "id": "kWSmtojqoEUx",
        "colab_type": "code",
        "colab": {}
      },
      "source": [
        "scope_variable = 0"
      ],
      "execution_count": null,
      "outputs": []
    },
    {
      "cell_type": "code",
      "metadata": {
        "id": "mS3Q1_eYn_jY",
        "colab_type": "code",
        "colab": {}
      },
      "source": [
        "def test_func_a():\n",
        "    scope_variable = 5"
      ],
      "execution_count": null,
      "outputs": []
    },
    {
      "cell_type": "code",
      "metadata": {
        "id": "jvanOQpHoLG7",
        "colab_type": "code",
        "colab": {}
      },
      "source": [
        "def test_func_b():\n",
        "    scope_variable = 10    "
      ],
      "execution_count": null,
      "outputs": []
    },
    {
      "cell_type": "code",
      "metadata": {
        "id": "gY5FQG-AoO5p",
        "colab_type": "code",
        "colab": {}
      },
      "source": [
        "print(scope_variable)"
      ],
      "execution_count": null,
      "outputs": []
    },
    {
      "cell_type": "code",
      "metadata": {
        "id": "yhWvNIR4uLdm",
        "colab_type": "code",
        "colab": {}
      },
      "source": [
        "similarity_dict['Coca-Cola']['coke']"
      ],
      "execution_count": null,
      "outputs": []
    },
    {
      "cell_type": "code",
      "metadata": {
        "id": "9Q2YdGucz0Xr",
        "colab_type": "code",
        "colab": {}
      },
      "source": [
        ""
      ],
      "execution_count": null,
      "outputs": []
    }
  ]
}