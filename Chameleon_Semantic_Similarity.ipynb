{
  "nbformat": 4,
  "nbformat_minor": 0,
  "metadata": {
    "colab": {
      "name": "Chameleon_Semantic_Similarity.ipynb",
      "provenance": [],
      "private_outputs": true,
      "collapsed_sections": [],
      "authorship_tag": "ABX9TyMYcMjC2qFUtv7L1nOvFqDg"
    },
    "kernelspec": {
      "name": "python3",
      "display_name": "Python 3"
    }
  },
  "cells": [
    {
      "cell_type": "code",
      "metadata": {
        "id": "EmBphcRZEieV",
        "colab_type": "code",
        "colab": {}
      },
      "source": [
        "import tensorflow as tf\n",
        "import tensorflow_hub as hub\n",
        "import numpy as np\n",
        "from google.colab import drive\n",
        "from tqdm import tqdm\n",
        "import dill\n",
        "import numpy as np"
      ],
      "execution_count": null,
      "outputs": []
    },
    {
      "cell_type": "code",
      "metadata": {
        "id": "friJbihREsX2",
        "colab_type": "code",
        "colab": {}
      },
      "source": [
        "drive.mount('/content/drive')"
      ],
      "execution_count": null,
      "outputs": []
    },
    {
      "cell_type": "code",
      "metadata": {
        "id": "BDB4GsBIBxn-",
        "colab_type": "code",
        "colab": {}
      },
      "source": [
        "with open('/content/drive/My Drive/Chameleon_AI/Pickles/embeddings_dict.pkl', 'rb') as pkl:\n",
        "    embeddings_dict = dill.load(pkl)"
      ],
      "execution_count": null,
      "outputs": []
    },
    {
      "cell_type": "code",
      "metadata": {
        "id": "Yqc0eooTaiRf",
        "colab_type": "code",
        "colab": {}
      },
      "source": [
        "with open('/content/drive/My Drive/Chameleon_AI/Pickles/ai_word_bank_list.pkl', 'rb') as pkl:\n",
        "    ai_word_bank_list = dill.load(pkl)"
      ],
      "execution_count": null,
      "outputs": []
    },
    {
      "cell_type": "code",
      "metadata": {
        "id": "YgRTTylTawnX",
        "colab_type": "code",
        "colab": {}
      },
      "source": [
        "len(ai_word_bank_list)"
      ],
      "execution_count": null,
      "outputs": []
    },
    {
      "cell_type": "code",
      "metadata": {
        "id": "fExShI0rGZQF",
        "colab_type": "code",
        "colab": {}
      },
      "source": [
        "module_url = \"https://tfhub.dev/google/universal-sentence-encoder-large/5\""
      ],
      "execution_count": null,
      "outputs": []
    },
    {
      "cell_type": "code",
      "metadata": {
        "id": "dqU3eGxPGHPG",
        "colab_type": "code",
        "colab": {}
      },
      "source": [
        "USE_model = hub.load(module_url)"
      ],
      "execution_count": null,
      "outputs": []
    },
    {
      "cell_type": "code",
      "metadata": {
        "id": "fXEbXFfVOrL-",
        "colab_type": "code",
        "colab": {}
      },
      "source": [
        "def most_similar(phrase: str) -> str :\n",
        "    phrase_embedding = USE_model([phrase])\n",
        "    #current_word_embedding = \"\"\n",
        "    most_similar_value = 0\n",
        "    most_similar_string = \"\"\n",
        "    for word in ai_word_bank_list:\n",
        "        if word == phrase:\n",
        "            continue\n",
        "        if np.inner(phrase_embedding, embeddings_dict[word]) > most_similar_value:\n",
        "            most_similar_value = np.inner(phrase_embedding, embeddings_dict[word])\n",
        "            most_similar_string = word\n",
        "    return most_similar_string, most_similar_value"
      ],
      "execution_count": null,
      "outputs": []
    },
    {
      "cell_type": "code",
      "metadata": {
        "id": "sfcvmWJify0q",
        "colab_type": "code",
        "colab": {}
      },
      "source": [
        "most_similar(\"smoothie\")"
      ],
      "execution_count": null,
      "outputs": []
    },
    {
      "cell_type": "code",
      "metadata": {
        "id": "7j-_zQtomST6",
        "colab_type": "code",
        "colab": {}
      },
      "source": [
        "float(score)"
      ],
      "execution_count": null,
      "outputs": []
    },
    {
      "cell_type": "code",
      "metadata": {
        "id": "vjI7BhjwSp4o",
        "colab_type": "code",
        "colab": {}
      },
      "source": [
        "def ai_player_guess(phrase: str) -> dict :\n",
        "    smoothie_dict = {}\n",
        "    dict_element_counter = 0\n",
        "    phrase_embedding = USE_model([phrase])\n",
        "    #current_word_embedding = \"\"\n",
        "    minimum_similar_value = 0\n",
        "    minimum_similar_string = \"\"\n",
        "    for word in ai_word_bank_list:\n",
        "        if word == phrase:\n",
        "            continue\n",
        "        if dict_element_counter < 15:\n",
        "            dict_element_counter += 1\n",
        "            smoothie_dict[word] = np.inner(phrase_embedding, embeddings_dict[word])  \n",
        "            minimum_similar_string = min(smoothie_dict, key=smoothie_dict.get)\n",
        "            #print(minimum_similar_string)\n",
        "            #print(smoothie_dict[word])\n",
        "            minimum_similar_value = smoothie_dict[minimum_similar_string]            \n",
        "        \n",
        "        elif np.inner(phrase_embedding, embeddings_dict[word]) > minimum_similar_value:\n",
        "            smoothie_dict.pop(minimum_similar_string)\n",
        "            smoothie_dict[word] = np.inner(phrase_embedding, embeddings_dict[word])\n",
        "            minimum_similar_string = min(smoothie_dict, key=smoothie_dict.get)\n",
        "            minimum_similar_value = smoothie_dict[minimum_similar_string]\n",
        "          \n",
        "    return smoothie_dict"
      ],
      "execution_count": null,
      "outputs": []
    },
    {
      "cell_type": "code",
      "metadata": {
        "id": "7SdOO6tg8e6Y",
        "colab_type": "code",
        "colab": {}
      },
      "source": [
        "ai_player_guess('Chair')"
      ],
      "execution_count": null,
      "outputs": []
    },
    {
      "cell_type": "code",
      "metadata": {
        "id": "mF71KpMgwbkI",
        "colab_type": "code",
        "colab": {}
      },
      "source": [
        "fuck_dict = {'one':1, 'two':2, 'three':3}"
      ],
      "execution_count": null,
      "outputs": []
    },
    {
      "cell_type": "code",
      "metadata": {
        "id": "bcXKWPmvwhXt",
        "colab_type": "code",
        "colab": {}
      },
      "source": [
        "def great_fuck_dict(number):\n",
        "    if number > fuck_dict[min(fuck_dict, key=fuck_dict.get)]:\n",
        "        print(f\"New number {number} is greater than smallest value in dict.\")\n",
        "    else:\n",
        "        print(f\"New number {number} is less than or equal to smallest value in dict.\")"
      ],
      "execution_count": null,
      "outputs": []
    },
    {
      "cell_type": "code",
      "metadata": {
        "id": "XImRaVqRxTDV",
        "colab_type": "code",
        "colab": {}
      },
      "source": [
        "great_fuck_dict(1.5)"
      ],
      "execution_count": null,
      "outputs": []
    },
    {
      "cell_type": "code",
      "metadata": {
        "id": "TC2Vi6ioxVuB",
        "colab_type": "code",
        "colab": {}
      },
      "source": [
        ""
      ],
      "execution_count": null,
      "outputs": []
    }
  ]
}