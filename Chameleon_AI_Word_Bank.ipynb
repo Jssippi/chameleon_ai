{
  "nbformat": 4,
  "nbformat_minor": 0,
  "metadata": {
    "colab": {
      "name": "Chameleon_AI_Word_Bank.ipynb",
      "provenance": [],
      "private_outputs": true,
      "collapsed_sections": [],
      "authorship_tag": "ABX9TyM2paNbOWpyuVd3feyFpq4h"
    },
    "kernelspec": {
      "name": "python3",
      "display_name": "Python 3"
    }
  },
  "cells": [
    {
      "cell_type": "code",
      "metadata": {
        "id": "lCPfFkPCP2x6",
        "colab_type": "code",
        "colab": {}
      },
      "source": [
        "import requests\n",
        "from google.colab import drive\n",
        "from google.colab import files\n",
        "import dill"
      ],
      "execution_count": null,
      "outputs": []
    },
    {
      "cell_type": "code",
      "metadata": {
        "id": "RFpkMApfXZVk",
        "colab_type": "code",
        "colab": {}
      },
      "source": [
        "drive.mount('/content/drive')"
      ],
      "execution_count": null,
      "outputs": []
    },
    {
      "cell_type": "code",
      "metadata": {
        "id": "3wn5NDLJSv6c",
        "colab_type": "code",
        "colab": {}
      },
      "source": [
        "text_file_request = requests.get('https://raw.githubusercontent.com/first20hours/google-10000-english/master/20k.txt')"
      ],
      "execution_count": null,
      "outputs": []
    },
    {
      "cell_type": "code",
      "metadata": {
        "id": "jCnNpXsXS8Lu",
        "colab_type": "code",
        "colab": {}
      },
      "source": [
        "text_file_request"
      ],
      "execution_count": null,
      "outputs": []
    },
    {
      "cell_type": "code",
      "metadata": {
        "id": "Mom2pIWKS-xK",
        "colab_type": "code",
        "colab": {}
      },
      "source": [
        "text_file_request.text"
      ],
      "execution_count": null,
      "outputs": []
    },
    {
      "cell_type": "code",
      "metadata": {
        "id": "VFybWzI5TM0C",
        "colab_type": "code",
        "colab": {}
      },
      "source": [
        "ai_word_bank_list = text_file_request.text.split('\\n')"
      ],
      "execution_count": null,
      "outputs": []
    },
    {
      "cell_type": "code",
      "metadata": {
        "id": "JPaDN1ymUGfV",
        "colab_type": "code",
        "colab": {}
      },
      "source": [
        "ai_word_bank_list = ai_word_bank_list[:-1]"
      ],
      "execution_count": null,
      "outputs": []
    },
    {
      "cell_type": "code",
      "metadata": {
        "id": "lrSJfzan2FEC",
        "colab_type": "code",
        "colab": {}
      },
      "source": [
        "with open('/content/drive/My Drive/Chameleon_AI/Pickles/ai_word_bank_list.pkl', 'wb') as pkl:\n",
        "    dill.dump(ai_word_bank_list, pkl)"
      ],
      "execution_count": null,
      "outputs": []
    }
  ]
}