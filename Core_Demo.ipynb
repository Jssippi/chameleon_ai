{
  "nbformat": 4,
  "nbformat_minor": 0,
  "metadata": {
    "colab": {
      "name": "Core_Demo.ipynb",
      "provenance": [],
      "private_outputs": true,
      "collapsed_sections": [],
      "authorship_tag": "ABX9TyOxcqDGE4Vqam2iHBCKivse"
    },
    "kernelspec": {
      "name": "python3",
      "display_name": "Python 3"
    }
  },
  "cells": [
    {
      "cell_type": "code",
      "metadata": {
        "id": "EmBphcRZEieV",
        "colab_type": "code",
        "colab": {}
      },
      "source": [
        "import tensorflow as tf\n",
        "import tensorflow_hub as hub\n",
        "import numpy as np\n",
        "from google.colab import drive\n",
        "from tqdm import tqdm\n",
        "import dill\n",
        "import numpy as np\n",
        "import random\n",
        "import copy\n",
        "import os\n",
        "from IPython.display import clear_output\n",
        "from collections import defaultdict "
      ],
      "execution_count": null,
      "outputs": []
    },
    {
      "cell_type": "code",
      "metadata": {
        "id": "friJbihREsX2",
        "colab_type": "code",
        "colab": {}
      },
      "source": [
        "drive.mount('/content/drive')"
      ],
      "execution_count": null,
      "outputs": []
    },
    {
      "cell_type": "code",
      "metadata": {
        "id": "BDB4GsBIBxn-",
        "colab_type": "code",
        "colab": {}
      },
      "source": [
        "with open('/content/drive/My Drive/Chameleon_AI/Pickles/embeddings_dict.pkl', 'rb') as pkl:\n",
        "    embeddings_dict = dill.load(pkl)"
      ],
      "execution_count": null,
      "outputs": []
    },
    {
      "cell_type": "code",
      "metadata": {
        "id": "Yqc0eooTaiRf",
        "colab_type": "code",
        "colab": {}
      },
      "source": [
        "with open('/content/drive/My Drive/Chameleon_AI/Pickles/ai_word_bank_list.pkl', 'rb') as pkl:\n",
        "    ai_word_bank_list = dill.load(pkl)"
      ],
      "execution_count": null,
      "outputs": []
    },
    {
      "cell_type": "code",
      "metadata": {
        "id": "zLEP-ujoiCHX",
        "colab_type": "code",
        "colab": {}
      },
      "source": [
        "with open('/content/drive/My Drive/Chameleon_AI/Pickles/topic_dict.pkl', 'rb') as pkl:\n",
        "    topic_dict = dill.load(pkl)"
      ],
      "execution_count": null,
      "outputs": []
    },
    {
      "cell_type": "code",
      "metadata": {
        "id": "N6d1rvC_HzHj",
        "colab_type": "code",
        "colab": {}
      },
      "source": [
        "#added later for further development\n",
        "with open('/content/drive/My Drive/Chameleon_AI/Pickles/similarity_dict.pkl', 'rb') as pkl:\n",
        "    similarity_dict = dill.load(pkl)"
      ],
      "execution_count": null,
      "outputs": []
    },
    {
      "cell_type": "code",
      "metadata": {
        "id": "fExShI0rGZQF",
        "colab_type": "code",
        "colab": {}
      },
      "source": [
        "module_url = \"https://tfhub.dev/google/universal-sentence-encoder-large/5\""
      ],
      "execution_count": null,
      "outputs": []
    },
    {
      "cell_type": "code",
      "metadata": {
        "id": "dqU3eGxPGHPG",
        "colab_type": "code",
        "colab": {}
      },
      "source": [
        "USE_model = hub.load(module_url)"
      ],
      "execution_count": null,
      "outputs": []
    },
    {
      "cell_type": "code",
      "metadata": {
        "id": "TNQC1_YC8kp0",
        "colab_type": "code",
        "colab": {}
      },
      "source": [
        "def randomize_secret_word():\n",
        "    random_topic = random.choice(list(topic_dict))\n",
        "    topic_word_spread = topic_dict[random_topic]\n",
        "    secret_word = random.choice(topic_word_spread)\n",
        "    topic_word_spread.remove(secret_word)\n",
        "    return random_topic, topic_word_spread, secret_word"
      ],
      "execution_count": null,
      "outputs": []
    },
    {
      "cell_type": "code",
      "metadata": {
        "id": "pKjz9krko0b4",
        "colab_type": "code",
        "colab": {}
      },
      "source": [
        "def string_checker(string1, string2):\n",
        "    string1 = string1.lower()\n",
        "    string2= string2.lower()\n",
        "    if len(string1) >= 3:\n",
        "        if string1[:3] in string2:\n",
        "            return True\n",
        "    if len(string2) >= 3:\n",
        "        if string2[:3] in string1:\n",
        "            return True\n",
        "    if len(string1) >= 4 and len(string2) >= 4:\n",
        "        for index, letter in enumerate(string1):\n",
        "            if index <= (len(string1) - 4):\n",
        "                sub_string = string1[index : index + 4]\n",
        "                if sub_string in string2:\n",
        "                    return True\n",
        "    if len(string2) >= 4 and len(string1) >=4:\n",
        "        for index, letter in enumerate(string2):\n",
        "            if index <= (len(string2) - 4):\n",
        "                sub_string = string2[index : index +4]\n",
        "                if sub_string in string1:\n",
        "                    return True\n",
        "    return False"
      ],
      "execution_count": null,
      "outputs": []
    },
    {
      "cell_type": "code",
      "metadata": {
        "id": "SM6tHaOdVUy4",
        "colab_type": "code",
        "colab": {}
      },
      "source": [
        "def check_topic(hint_candidate, topic):\n",
        "    if similarity_dict[topic][hint_candidate] >= .4 and \\\n",
        "    similarity_dict[topic][hint_candidate] <= .59:\n",
        "        #print(f\"{topic} topic match at{similarity_dict[topic][hint_candidate]}\")\n",
        "        return True\n",
        "    else:\n",
        "        #print(f\"{topic} failure did not match at \" \\\n",
        "              #f\"{similarity_dict[topic][hint_candidate]}\")\n",
        "        return False"
      ],
      "execution_count": null,
      "outputs": []
    },
    {
      "cell_type": "code",
      "metadata": {
        "id": "uaGNKTShv9lO",
        "colab_type": "code",
        "colab": {}
      },
      "source": [
        "def check_non_secret_words(hint_candidate, non_secret_words):\n",
        "    non_secret_options = copy.deepcopy(non_secret_words)\n",
        "    non_secret_success_count = 0\n",
        "    match_list = []\n",
        "    while len(non_secret_options) >= 1:\n",
        "        non_secret_word = random.choice(non_secret_options)\n",
        "        if string_checker(hint_candidate, non_secret_word):\n",
        "            return False\n",
        "        if similarity_dict[non_secret_word][hint_candidate] >= .45 and \\\n",
        "        similarity_dict[non_secret_word][hint_candidate] <= .59:\n",
        "            non_secret_success_count +=1\n",
        "            match_list.append(non_secret_word)\n",
        "            non_secret_options.remove(non_secret_word)\n",
        "        else:\n",
        "            non_secret_options.remove(non_secret_word)\n",
        "    \n",
        "    if non_secret_success_count >= 2:\n",
        "        #print(f\"Success: {hint_candidate} matched with \" \\\n",
        "              #f\"{non_secret_success_count} words.\")\n",
        "        #print(match_list)\n",
        "        return True\n",
        "    else:\n",
        "        #print(f\"Failure: {hint_candidate} matched with \" \\\n",
        "              #f\"{non_secret_success_count} words.\")\n",
        "        return False"
      ],
      "execution_count": null,
      "outputs": []
    },
    {
      "cell_type": "code",
      "metadata": {
        "id": "8nqs4ujtncfv",
        "colab_type": "code",
        "colab": {}
      },
      "source": [
        "def hint_search(secret_word, topic, non_secret_words, ai_available_words):\n",
        "    while len(ai_available_words) >= 1:\n",
        "        #print(len(ai_available_words))\n",
        "        hint_candidate = (random.choice(ai_available_words))\n",
        "        if string_checker(secret_word, hint_candidate):\n",
        "            ai_available_words.remove(hint_candidate)\n",
        "            continue\n",
        "        if similarity_dict[secret_word][hint_candidate] >= .46 and \\\n",
        "            similarity_dict[secret_word][hint_candidate] <= .54:\n",
        "            #print(f\"secret {secret_word} matches with {hint_candidate} at \" \\\n",
        "                  #f\"{similarity_dict[secret_word][hint_candidate]}.\")\n",
        "            if string_checker(hint_candidate, topic):\n",
        "                ai_available_words.remove(hint_candidate)\n",
        "                continue\n",
        "            if check_topic(hint_candidate, topic):\n",
        "                if check_non_secret_words(hint_candidate, non_secret_words):\n",
        "                    return hint_candidate\n",
        "                else:\n",
        "                    ai_available_words.remove(hint_candidate)\n",
        "                    continue            \n",
        "            else:\n",
        "                ai_available_words.remove(hint_candidate)\n",
        "                continue\n",
        "        else:\n",
        "            #print(f\"Fail: secret {secret_word} no match with {hint_candidate} at \" \\\n",
        "                  #f\"{similarity_dict[secret_word][hint_candidate]}.\")\n",
        "            ai_available_words.remove(hint_candidate)\n",
        "            #print('lets try again')\n",
        "            #print(hint_candidate)\n",
        "            #print(similarity_dict[secret_word][hint_candidate])"
      ],
      "execution_count": null,
      "outputs": []
    },
    {
      "cell_type": "code",
      "metadata": {
        "id": "tdM0Od6L9EcY",
        "colab_type": "code",
        "colab": {}
      },
      "source": [
        "def chameleon_hint_search(topic, non_secret_words, ai_available_words):\n",
        "    while len(ai_available_words) >= 1:\n",
        "        hint_candidate = (random.choice(ai_available_words))\n",
        "        if string_checker(hint_candidate, topic):\n",
        "            ai_available_words.remove(hint_candidate)\n",
        "            continue\n",
        "        if check_topic(hint_candidate, topic):\n",
        "            if check_non_secret_words(hint_candidate, non_secret_words):\n",
        "                return hint_candidate\n",
        "            else:\n",
        "                ai_available_words.remove(hint_candidate)\n",
        "                continue            \n",
        "        else:\n",
        "                ai_available_words.remove(hint_candidate)\n",
        "                continue"
      ],
      "execution_count": null,
      "outputs": []
    },
    {
      "cell_type": "code",
      "metadata": {
        "colab_type": "code",
        "id": "3gmaJkVt7bP8",
        "colab": {}
      },
      "source": [
        "def ai_player_hint(chameleon):\n",
        "    topic, non_secret_words, secret_word = randomize_secret_word()\n",
        "    input(f\"Topic: {topic}      Secret word: {secret_word}.Confirm to continue.\")\n",
        "    clear_output()\n",
        "    input(f\"Round will now proceed. Think of your hint.\")\n",
        "    ai_available_words = copy.deepcopy(ai_word_bank_list)\n",
        "    try:\n",
        "        ai_available_words.remove(topic.lower())\n",
        "    except ValueError:\n",
        "        pass\n",
        "\n",
        "    for word in non_secret_words:\n",
        "        try:\n",
        "            ai_available_words.remove(word.lower())\n",
        "        except ValueError:\n",
        "            continue\n",
        "\n",
        "    #print(secret_word)\n",
        "    still_search = True\n",
        "    \n",
        "    if chameleon == 6:\n",
        "        hint_candidate = chameleon_hint_search(topic, non_secret_words,\n",
        "                                               ai_available_words)\n",
        "    else:\n",
        "        hint_candidate = hint_search(secret_word, topic,\n",
        "                                 non_secret_words, ai_available_words)\n",
        "    \n",
        "    #print(f\"hint for {secret_word} is {hint_candidate} at \" \\\n",
        "          #f\"{similarity_dict[secret_word][hint_candidate]}\")\n",
        "\n",
        "\n",
        "    return secret_word, hint_candidate, topic"
      ],
      "execution_count": null,
      "outputs": []
    },
    {
      "cell_type": "code",
      "metadata": {
        "id": "_RMUXbOXD3-o",
        "colab_type": "code",
        "colab": {}
      },
      "source": [
        "def ai_player_accuse(secret_word, ai_hint, dealer):\n",
        "    human_hints_list = []\n",
        "    other_players_similarity_dict = {}\n",
        "    input('Please confirm when all players are ready to give their hint.')\n",
        "    clear_output()\n",
        "    player_1_hint =input(\"Player 1 what's your hint?\")\n",
        "    human_hints_list.append(player_1_hint)\n",
        "    player_1_embedding = USE_model([player_1_hint])\n",
        "    player_2_hint =input(\"Player 2 what's your hint?\")\n",
        "    human_hints_list.append(player_2_hint)\n",
        "    player_2_embedding = USE_model([player_2_hint])\n",
        "    player_3_hint =input(\"Player 3 what's your hint?\")\n",
        "    human_hints_list.append(player_3_hint)\n",
        "    player_3_embedding = USE_model([player_3_hint])\n",
        "    player_4_hint =input(\"Player 4 what's your hint?\")\n",
        "    human_hints_list.append(player_4_hint)\n",
        "    player_4_embedding = USE_model([player_4_hint])\n",
        "    player_5_hint =input(\"Player 5 what's your hint?\")\n",
        "    human_hints_list.append(player_5_hint)\n",
        "    player_5_embedding = USE_model([player_5_hint])\n",
        "    input(f\"The AI's hint is the word {ai_hint}. What a remarkable hint!\")\n",
        "    clear_output()\n",
        "    print(\"Before we vote, to summarize hints are:\")\n",
        "    print(human_hints_list, ai_hint)\n",
        "    player_1_similarity = np.inner(player_1_embedding, embeddings_dict[secret_word])\n",
        "    other_players_similarity_dict['1'] = player_1_similarity\n",
        "    player_2_similarity = np.inner(player_2_embedding, embeddings_dict[secret_word])\n",
        "    other_players_similarity_dict['2'] = player_2_similarity\n",
        "    player_3_similarity = np.inner(player_3_embedding, embeddings_dict[secret_word])\n",
        "    other_players_similarity_dict['3'] = player_3_similarity\n",
        "    player_4_similarity = np.inner(player_4_embedding, embeddings_dict[secret_word])\n",
        "    other_players_similarity_dict['4'] = player_4_similarity\n",
        "    player_5_similarity = np.inner(player_5_embedding, embeddings_dict[secret_word])\n",
        "    other_players_similarity_dict['5'] = player_5_similarity\n",
        "    sort_player_scores = sorted(other_players_similarity_dict.items(),\n",
        "                                key=lambda x: x[1])\n",
        "    print(f\"I think the most likely Chameleon is {sort_player_scores[0][0]} \" \\\n",
        "          f\"Who do you think?\")\n",
        "    voted_as_chameleon = voting_time(sort_player_scores, dealer)\n",
        "    voted_as_chameleon = int(voted_as_chameleon)\n",
        "    return voted_as_chameleon, human_hints_list"
      ],
      "execution_count": null,
      "outputs": []
    },
    {
      "cell_type": "code",
      "metadata": {
        "id": "8Y78RPB8UNY2",
        "colab_type": "code",
        "colab": {}
      },
      "source": [
        "def voting_time(sort_player_scores, dealer):\n",
        "    voting_dict = {\"1\": 0, '2': 0, \"3\": 0, '4': 0, \"5\": 0, \"6\":0}\n",
        "    tie_list = []\n",
        "    player_1_vote = input(f\"Player 1, who do you vote?\")\n",
        "    voting_dict[player_1_vote] += 1\n",
        "    player_2_vote = input(f\"Player 2, who do you vote?\")\n",
        "    voting_dict[player_2_vote] += 1\n",
        "    player_3_vote = input(f\"Player 3, who do you vote?\")\n",
        "    voting_dict[player_3_vote] += 1\n",
        "    player_4_vote = input(f\"Player 4, who do you vote?\")\n",
        "    voting_dict[player_4_vote] += 1\n",
        "    player_5_vote = input(f\"Player 5, who do you vote?\")\n",
        "    voting_dict[player_5_vote] += 1\n",
        "    voting_dict[sort_player_scores[0][0]] += 1\n",
        "    sorted_votes = sorted(voting_dict.items(), key= lambda x: x[1],\n",
        "                          reverse=True)\n",
        "    for player_tally in sorted_votes[1:]:\n",
        "        if player_tally[1] == sorted_votes[0][1]:\n",
        "            #print(player_tally[1])\n",
        "            #print(sorted_votes[0][1])\n",
        "            chameleon_final_vote = input(f\"There is a tie. Player {dealer}, who do you choose?\")\n",
        "            return chameleon_final_vote\n",
        "        else:\n",
        "            return sorted_votes[0][0]"
      ],
      "execution_count": null,
      "outputs": []
    },
    {
      "cell_type": "code",
      "metadata": {
        "id": "d_Ea5OdbnvLw",
        "colab_type": "code",
        "colab": {}
      },
      "source": [
        "def determine_dealer():\n",
        "    list = [1,2,3,4,5,6]\n",
        "    first_round_check = input(\"Is this the first round for this group?\")\n",
        "    if first_round_check == 'y':\n",
        "        dealer = random.choice(list)\n",
        "        if dealer == 6:\n",
        "            input(f\"The dealer is the AI. Confirm to continue. \")\n",
        "            clear_output()\n",
        "            return dealer\n",
        "        else:\n",
        "            input(f\"The dealer is Player {dealer}. Confirm to continue. \")\n",
        "            clear_output()\n",
        "    else:\n",
        "        dealer = input('Who was the Chameleon last round?')\n",
        "        input(f\"The dealer is Player {dealer}. Confirm to continue. \")\n",
        "        clear_output()\n",
        "\n",
        "    return dealer"
      ],
      "execution_count": null,
      "outputs": []
    },
    {
      "cell_type": "code",
      "metadata": {
        "id": "MV0CtOe95sxT",
        "colab_type": "code",
        "colab": {}
      },
      "source": [
        "def determine_chameleon():\n",
        "    list = [1,2,3,4,5,6]\n",
        "    chameleon = random.choice(list)\n",
        "    input(\"Choosing Chameleon, all players turn away please.\")\n",
        "    input(f\"The Chameleon is Player {chameleon}. How exciting! Confirm to continue.\")\n",
        "    clear_output()\n",
        "    return chameleon"
      ],
      "execution_count": null,
      "outputs": []
    },
    {
      "cell_type": "code",
      "metadata": {
        "id": "3YbzCAE6R3v7",
        "colab_type": "code",
        "colab": {}
      },
      "source": [
        "def chameleon_secret_guess(human_hints_list, topic, topic_dict,\n",
        "                           embeddings_dict):\n",
        "    top_words = defaultdict(int)\n",
        "    for hint in human_hints_list:\n",
        "        highest_score = 0\n",
        "        hint_vector = USE_model([hint])\n",
        "        for secret_word in topic_dict[topic]:\n",
        "            score = np.inner(hint_vector, embeddings_dict[secret_word])\n",
        "            if score > highest_score:\n",
        "                highest_score = score\n",
        "                most_likely_secret = secret_word\n",
        "        top_words[most_likely_secret] +=1\n",
        "    secret_guess = (max(top_words, key=top_words.get))\n",
        "    return secret_guess            "
      ],
      "execution_count": null,
      "outputs": []
    },
    {
      "cell_type": "code",
      "metadata": {
        "id": "rhulotuaW4Fo",
        "colab_type": "code",
        "colab": {}
      },
      "source": [
        "chameleon_secret_guess([\"wheels\",\"drive\",\" gas\", \"ride\", \"speed\"], \"Transport\", topic_dict, embeddings_dict)"
      ],
      "execution_count": null,
      "outputs": []
    },
    {
      "cell_type": "code",
      "metadata": {
        "id": "mM-x8TNmnxGm",
        "colab_type": "code",
        "colab": {}
      },
      "source": [
        "def demo_run():\n",
        "    dealer = determine_dealer()\n",
        "    chameleon = determine_chameleon()\n",
        "    secret_word, ai_hint, topic = ai_player_hint(chameleon)\n",
        "    voted_as_chameleon, human_hints_list = ai_player_accuse(secret_word,\n",
        "                                                            ai_hint, dealer)\n",
        "    print(f\"{voted_as_chameleon} has been voted as Chameleon.\")\n",
        "    input(f\"Drumroll please... Chameleon, reveal yourself!\")\n",
        "    clear_output()\n",
        "    if chameleon != voted_as_chameleon:\n",
        "       print(f\"The Chameleon escaped detection! It was actually player {chameleon}.\")\n",
        "       print(\"The Chameleon gets 2 points, everyone else gets 0.\")\n",
        "    else:\n",
        "        input(f\"OH SNAP, the Chameleon was discovered!\")\n",
        "        clear_output()\n",
        "        if chameleon == 6:\n",
        "            secret_guess = chameleon_secret_guess(human_hints_list, topic,\n",
        "                                                  topic_dict, embeddings_dict)\n",
        "            if secret_guess == secret_word:\n",
        "                print(f\"The AI choose correctly with {secret_guess}.\")\n",
        "                input(f\"Chameleon gets 1 point, everyone else gets 0.\")\n",
        "            else:\n",
        "                print(f\"The AI chose incorrectly with {secret_guess}. The secret word was actually {secret_word}.\")\n",
        "                input(f\"The Chameleon gets 0 points, all other players get 2 points.\")\n",
        "        else:\n",
        "            secret_guess = input(f\"Player {chameleon}, what is your guess?\")\n",
        "            if secret_guess == secret_word:\n",
        "                print(f\"Player {chameleon} chose correctly!\")\n",
        "                print(\"Chameleon gets 1 point, everyone else gets 0.\")\n",
        "            else:\n",
        "                print(f\"Player {chameleon} chose incorrectly. The secret word was actually {secret}.\")\n",
        "                input(f\"The Chameleon gets 0 points, all ohter players get points.\")\n",
        "                \n",
        "    play_again = input(\"Play again?\")\n",
        "    clear_output()\n",
        "    if play_again == 'y':\n",
        "        demo_run()\n",
        "    else:\n",
        "        return \"Thanks for playing along.\""
      ],
      "execution_count": null,
      "outputs": []
    },
    {
      "cell_type": "code",
      "metadata": {
        "id": "UmMDS1Z_qMSf",
        "colab_type": "code",
        "colab": {}
      },
      "source": [
        "demo_run()"
      ],
      "execution_count": null,
      "outputs": []
    },
    {
      "cell_type": "code",
      "metadata": {
        "id": "X99qOIwTdquq",
        "colab_type": "code",
        "colab": {}
      },
      "source": [
        ""
      ],
      "execution_count": null,
      "outputs": []
    }
  ]
}