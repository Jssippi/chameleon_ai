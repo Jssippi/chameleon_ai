{
  "nbformat": 4,
  "nbformat_minor": 0,
  "metadata": {
    "colab": {
      "name": "Topic_Dict.ipynb",
      "provenance": [],
      "private_outputs": true,
      "collapsed_sections": [],
      "authorship_tag": "ABX9TyNZuo1a90p/W2dnEao6fOpZ"
    },
    "kernelspec": {
      "name": "python3",
      "display_name": "Python 3"
    }
  },
  "cells": [
    {
      "cell_type": "code",
      "metadata": {
        "id": "hvO5a_H6SsLU",
        "colab_type": "code",
        "colab": {}
      },
      "source": [
        "pip install pyspellchecker"
      ],
      "execution_count": null,
      "outputs": []
    },
    {
      "cell_type": "code",
      "metadata": {
        "id": "i1aZiAmGu-sy",
        "colab_type": "code",
        "colab": {}
      },
      "source": [
        "from collections import defaultdict\n",
        "from spellchecker import SpellChecker\n",
        "from tqdm import tqdm"
      ],
      "execution_count": null,
      "outputs": []
    },
    {
      "cell_type": "code",
      "metadata": {
        "id": "irjdrCXUUchY",
        "colab_type": "code",
        "colab": {}
      },
      "source": [
        "spell_checker = SpellChecker()"
      ],
      "execution_count": null,
      "outputs": []
    },
    {
      "cell_type": "code",
      "metadata": {
        "id": "oiRXPfN_IR47",
        "colab_type": "code",
        "colab": {}
      },
      "source": [
        "topic_dict = defaultdict(list)"
      ],
      "execution_count": null,
      "outputs": []
    },
    {
      "cell_type": "code",
      "metadata": {
        "id": "Mxts9jrHdDk7",
        "colab_type": "code",
        "colab": {}
      },
      "source": [
        "def topic_card_builder(topic_name: str, secret_words: list) -> None:\n",
        "    if topic_list_validator(topic_name, secret_words):\n",
        "        if topic_name in topic_dict:\n",
        "            confirm_rewrite = input(f\"Enter 'Y' to rewrite {topic_name} \" \\\n",
        "                                     \"or 'N' to abort dict write. \")\n",
        "            if confirm_rewrite == 'Y':\n",
        "                print(f\"Rewriting {topic_name}.\")\n",
        "                topic_dict[topic_name] = secret_words\n",
        "            \n",
        "            elif confirm_rewrite == 'N':\n",
        "                print(f\"Rewrite for {topic_name} aborted.\")\n",
        "            \n",
        "            else:\n",
        "                print(f\"Error: you entered {confirm_rewrite}. No changes made.\")\n",
        "        else:\n",
        "            print(f\"Topic {topic_name} was added to the dictionary \" \\\n",
        "                  f\"with the following secret words: \\n{secret_words}\")\n",
        "            topic_dict[topic_name] = secret_words\n",
        "    else:\n",
        "        print(\"No changes made to topic card dictionary.\")"
      ],
      "execution_count": null,
      "outputs": []
    },
    {
      "cell_type": "code",
      "metadata": {
        "id": "zwoOWJyPSPVs",
        "colab_type": "code",
        "colab": {}
      },
      "source": [
        "def topic_list_validator(topic_name: str, secret_words: list) -> bool:\n",
        "    if spell_checker.known(topic_name):\n",
        "        print(f\"Topic {topic_name} passed.\")\n",
        "        \n",
        "        if len(spell_checker.known(secret_words)) == 16:\n",
        "            print(\"Spellcheck passed. Dictionary has 16 recognized words.\")\n",
        "            return True\n",
        "\n",
        "        else:\n",
        "            print(f\"Spellcheck failed. {len(secret_words)} elements and \" \\\n",
        "                f\"{len(spell_checker.known(secret_words))} known words.\" \\\n",
        "                f\"\\n{spell_checker.unknown(secret_words)} not recognized.\")\n",
        "            return False\n",
        "    else:\n",
        "        print(f\"Spellcheck failed. Topic {topic_name} not recognized.\")\n",
        "        return False"
      ],
      "execution_count": null,
      "outputs": []
    },
    {
      "cell_type": "code",
      "metadata": {
        "id": "LDckoGVKOb-T",
        "colab_type": "code",
        "colab": {}
      },
      "source": [
        "school_list = ['Math', 'Chemistry', 'Physics', 'Biology', 'History',\n",
        "               'Philosophy', 'Geography', 'English', 'Economics', 'Spanish',\n",
        "               'Art', 'Music', 'Gym', 'Latin', 'Religion', 'Technology']\n",
        "topic_dict['School'] = school_list"
      ],
      "execution_count": null,
      "outputs": []
    },
    {
      "cell_type": "code",
      "metadata": {
        "id": "74zJxJ78SyNw",
        "colab_type": "code",
        "colab": {}
      },
      "source": [
        "topic_card_builder('School', school_list)"
      ],
      "execution_count": null,
      "outputs": []
    },
    {
      "cell_type": "code",
      "metadata": {
        "id": "n1yO0Sc7nFbD",
        "colab_type": "code",
        "colab": {}
      },
      "source": [
        "topic_dict['School']"
      ],
      "execution_count": null,
      "outputs": []
    },
    {
      "cell_type": "code",
      "metadata": {
        "id": "Pon0b-w2qZ3u",
        "colab_type": "code",
        "colab": {}
      },
      "source": [
        ""
      ],
      "execution_count": null,
      "outputs": []
    }
  ]
}