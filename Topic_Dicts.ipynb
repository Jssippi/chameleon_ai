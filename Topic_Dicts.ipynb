{
  "nbformat": 4,
  "nbformat_minor": 0,
  "metadata": {
    "colab": {
      "name": "Topic_Dicts.ipynb",
      "provenance": [],
      "private_outputs": true,
      "authorship_tag": "ABX9TyNRrL4JJDzG4IS+Pc/axKCB"
    },
    "kernelspec": {
      "name": "python3",
      "display_name": "Python 3"
    }
  },
  "cells": [
    {
      "cell_type": "code",
      "metadata": {
        "id": "i1aZiAmGu-sy",
        "colab_type": "code",
        "colab": {}
      },
      "source": [
        "from collections import defaultdict\n",
        "from tqdm import tqdm"
      ],
      "execution_count": null,
      "outputs": []
    },
    {
      "cell_type": "code",
      "metadata": {
        "id": "oiRXPfN_IR47",
        "colab_type": "code",
        "colab": {}
      },
      "source": [
        "category_dicts = {}"
      ],
      "execution_count": null,
      "outputs": []
    },
    {
      "cell_type": "code",
      "metadata": {
        "id": "zwoOWJyPSPVs",
        "colab_type": "code",
        "colab": {}
      },
      "source": [
        "def dict_validator(list):\n",
        "    if len(list) == 16:\n",
        "        print(\"Passed. Dictionary has 16 elements.\")\n",
        "    else:\n",
        "        print(f\"Failed. Dictionary has {len(list)} elements.\")"
      ],
      "execution_count": null,
      "outputs": []
    },
    {
      "cell_type": "code",
      "metadata": {
        "id": "HeXDNX0SQD-i",
        "colab_type": "code",
        "colab": {}
      },
      "source": [
        "category_dicts['School'] = "
      ],
      "execution_count": null,
      "outputs": []
    },
    {
      "cell_type": "code",
      "metadata": {
        "id": "LDckoGVKOb-T",
        "colab_type": "code",
        "colab": {}
      },
      "source": [
        "school_list = ['Math', 'Chemistry', 'Physics', 'Biology', 'History',\n",
        "               'Philosophy', 'Geography', 'English', 'Economics', 'Spanish',\n",
        "               'Art', 'Music', 'Gym', 'Latin', 'Religion', 'Technology']"
      ],
      "execution_count": null,
      "outputs": []
    },
    {
      "cell_type": "code",
      "metadata": {
        "id": "74zJxJ78SyNw",
        "colab_type": "code",
        "colab": {}
      },
      "source": [
        "dict_validator(school_list)"
      ],
      "execution_count": null,
      "outputs": []
    },
    {
      "cell_type": "code",
      "metadata": {
        "id": "8EvBq6G8S32h",
        "colab_type": "code",
        "colab": {}
      },
      "source": [
        "dict_validator(bump_list)"
      ],
      "execution_count": null,
      "outputs": []
    },
    {
      "cell_type": "code",
      "metadata": {
        "id": "G48jRohLS6cm",
        "colab_type": "code",
        "colab": {}
      },
      "source": [
        "test_dict = defaultdict(float)"
      ],
      "execution_count": null,
      "outputs": []
    },
    {
      "cell_type": "code",
      "metadata": {
        "id": "U3Rl-DQJvj-M",
        "colab_type": "code",
        "colab": {}
      },
      "source": [
        "for i in school_list:\n",
        "    test_dict[i]"
      ],
      "execution_count": null,
      "outputs": []
    },
    {
      "cell_type": "code",
      "metadata": {
        "id": "bSJy8NI4v5cB",
        "colab_type": "code",
        "colab": {}
      },
      "source": [
        "print(test_dict)"
      ],
      "execution_count": null,
      "outputs": []
    },
    {
      "cell_type": "code",
      "metadata": {
        "id": "uQWiw4tov7Gg",
        "colab_type": "code",
        "colab": {}
      },
      "source": [
        "test_dict.items()"
      ],
      "execution_count": null,
      "outputs": []
    },
    {
      "cell_type": "code",
      "metadata": {
        "id": "z5LHmEUNxSpP",
        "colab_type": "code",
        "colab": {}
      },
      "source": [
        ""
      ],
      "execution_count": null,
      "outputs": []
    }
  ]
}