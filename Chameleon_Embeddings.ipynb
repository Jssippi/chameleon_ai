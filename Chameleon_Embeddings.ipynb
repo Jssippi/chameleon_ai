{
  "nbformat": 4,
  "nbformat_minor": 0,
  "metadata": {
    "colab": {
      "name": "Chameleon_Embeddings.ipynb",
      "provenance": [],
      "private_outputs": true,
      "collapsed_sections": [],
      "authorship_tag": "ABX9TyM6eizPSzjBo+jhGTJEn37+",
      "include_colab_link": true
    },
    "kernelspec": {
      "name": "python3",
      "display_name": "Python 3"
    },
    "accelerator": "GPU"
  },
  "cells": [
    {
      "cell_type": "markdown",
      "metadata": {
        "id": "view-in-github",
        "colab_type": "text"
      },
      "source": [
        "<a href=\"https://colab.research.google.com/github/Jssippi/chameleon_ai/blob/master/Chameleon_Embeddings.ipynb\" target=\"_parent\"><img src=\"https://colab.research.google.com/assets/colab-badge.svg\" alt=\"Open In Colab\"/></a>"
      ]
    },
    {
      "cell_type": "code",
      "metadata": {
        "id": "SBcV7qUGVqCV",
        "colab_type": "code",
        "colab": {}
      },
      "source": [
        "import tensorflow as tf\n",
        "import tensorflow_hub as hub\n",
        "import numpy as np\n",
        "from google.colab import drive\n",
        "import dill"
      ],
      "execution_count": null,
      "outputs": []
    },
    {
      "cell_type": "code",
      "metadata": {
        "id": "scnbApphdY4Y",
        "colab_type": "code",
        "colab": {}
      },
      "source": [
        "drive.mount('/content/drive')"
      ],
      "execution_count": null,
      "outputs": []
    },
    {
      "cell_type": "code",
      "metadata": {
        "id": "TJxzbjRuVah4",
        "colab_type": "code",
        "colab": {}
      },
      "source": [
        "module_url = \"https://tfhub.dev/google/universal-sentence-encoder-large/5\""
      ],
      "execution_count": null,
      "outputs": []
    },
    {
      "cell_type": "code",
      "metadata": {
        "id": "1SKIe1-RVwZp",
        "colab_type": "code",
        "colab": {}
      },
      "source": [
        "USE_model = hub.load(module_url)"
      ],
      "execution_count": null,
      "outputs": []
    },
    {
      "cell_type": "code",
      "metadata": {
        "id": "asYQDydqWrtx",
        "colab_type": "code",
        "colab": {}
      },
      "source": [
        "with open('/content/drive/My Drive/Chameleon_AI/Pickles/ai_word_bank_list.pkl', 'rb') as pkl:\n",
        "    ai_word_bank_list = dill.load(pkl)"
      ],
      "execution_count": null,
      "outputs": []
    },
    {
      "cell_type": "code",
      "metadata": {
        "id": "VjIz4QIido7_",
        "colab_type": "code",
        "colab": {}
      },
      "source": [
        "with open('/content/drive/My Drive/Chameleon_AI/Pickles/topic_dict.pkl', 'rb') as pkl:\n",
        "    topic_dict = dill.load(pkl)"
      ],
      "execution_count": null,
      "outputs": []
    },
    {
      "cell_type": "code",
      "metadata": {
        "id": "DHCO1vWqg1FC",
        "colab_type": "code",
        "colab": {}
      },
      "source": [
        "def create_embeddings(topic_dict, ai_word_bank_list):\n",
        "    embeddings_dict = {}\n",
        "    counter = 0\n",
        "    for topic in topic_dict:\n",
        "        counter += 1\n",
        "        print(counter)\n",
        "        #print(f\"Embedding topic {topic}\")\n",
        "        embeddings_dict[topic] = USE_model([topic])\n",
        "        for secret_word in topic_dict[topic]:\n",
        "            counter += 1\n",
        "            print(counter)\n",
        "            embeddings_dict[secret_word] = USE_model([secret_word])\n",
        "    for ai_word in ai_word_bank_list:\n",
        "        #print(f\"Embedding AI word {ai_word}.\")\n",
        "        counter +=1\n",
        "        print(counter)\n",
        "        embeddings_dict[ai_word] = USE_model([ai_word])\n",
        "    return embeddings_dict"
      ],
      "execution_count": null,
      "outputs": []
    },
    {
      "cell_type": "code",
      "metadata": {
        "id": "nJM6qo5WiOap",
        "colab_type": "code",
        "colab": {}
      },
      "source": [
        "for key in topic_dict:\n",
        "    print(key)\n",
        "    for element in topic_dict[key]:\n",
        "        print(element)"
      ],
      "execution_count": null,
      "outputs": []
    },
    {
      "cell_type": "code",
      "metadata": {
        "id": "KTbFoI4miWDg",
        "colab_type": "code",
        "colab": {}
      },
      "source": [
        "embeddings_dict = create_embeddings(topic_dict, ai_word_bank_list)"
      ],
      "execution_count": null,
      "outputs": []
    },
    {
      "cell_type": "code",
      "metadata": {
        "id": "tnidP6TSjOhD",
        "colab_type": "code",
        "colab": {}
      },
      "source": [
        "with open('/content/drive/My Drive/Chameleon_AI/Pickles/embeddings_dict.pkl', 'wb') as pkl:\n",
        "    dill.dump(embeddings_dict, pkl)"
      ],
      "execution_count": null,
      "outputs": []
    },
    {
      "cell_type": "code",
      "metadata": {
        "id": "Doe9HNC9vW1X",
        "colab_type": "code",
        "colab": {}
      },
      "source": [
        "test_embeddings_dict = {}\n",
        "for word in topic_dict:\n",
        "    test_embeddings_dict[word] = USE_model([word])"
      ],
      "execution_count": null,
      "outputs": []
    },
    {
      "cell_type": "code",
      "metadata": {
        "id": "2-QqK5M8v3y0",
        "colab_type": "code",
        "colab": {}
      },
      "source": [
        "USE_model(['Drinks'])"
      ],
      "execution_count": null,
      "outputs": []
    },
    {
      "cell_type": "code",
      "metadata": {
        "id": "jM6HXr-ivlhI",
        "colab_type": "code",
        "colab": {}
      },
      "source": [
        "test_embeddings_dict"
      ],
      "execution_count": null,
      "outputs": []
    },
    {
      "cell_type": "code",
      "metadata": {
        "id": "qch8ELdVthrH",
        "colab_type": "code",
        "colab": {}
      },
      "source": [
        "USE_model(['toaster'])"
      ],
      "execution_count": null,
      "outputs": []
    },
    {
      "cell_type": "code",
      "metadata": {
        "id": "KjnUCEskuhlE",
        "colab_type": "code",
        "colab": {}
      },
      "source": [
        "embeddings_dict['toaster']"
      ],
      "execution_count": null,
      "outputs": []
    },
    {
      "cell_type": "code",
      "metadata": {
        "id": "Rc-AWUs0uCmw",
        "colab_type": "code",
        "colab": {}
      },
      "source": [
        "np.array_equal(embeddings_dict['toaster'], USE_model(['toaster']))"
      ],
      "execution_count": null,
      "outputs": []
    },
    {
      "cell_type": "code",
      "metadata": {
        "id": "qW-aw-4MuXS1",
        "colab_type": "code",
        "colab": {}
      },
      "source": [
        "len(embeddings_dict.keys())"
      ],
      "execution_count": null,
      "outputs": []
    },
    {
      "cell_type": "code",
      "metadata": {
        "id": "VW7H4Na0u5Xl",
        "colab_type": "code",
        "colab": {}
      },
      "source": [
        "embeddings_dict['toaster'] == USE_model(['toaster'])"
      ],
      "execution_count": null,
      "outputs": []
    },
    {
      "cell_type": "code",
      "metadata": {
        "id": "6Cl3cZ4h1pxU",
        "colab_type": "code",
        "colab": {}
      },
      "source": [
        "truth_array.shape"
      ],
      "execution_count": null,
      "outputs": []
    },
    {
      "cell_type": "code",
      "metadata": {
        "id": "lpLO1OFJ1vmq",
        "colab_type": "code",
        "colab": {}
      },
      "source": [
        "truth_array"
      ],
      "execution_count": null,
      "outputs": []
    },
    {
      "cell_type": "code",
      "metadata": {
        "id": "F2oa9pWG12Im",
        "colab_type": "code",
        "colab": {}
      },
      "source": [
        "embed_list = list(embeddings_dict.keys())"
      ],
      "execution_count": null,
      "outputs": []
    },
    {
      "cell_type": "code",
      "metadata": {
        "id": "eb5bN1p4AemD",
        "colab_type": "code",
        "colab": {}
      },
      "source": [
        "len(embed_list)"
      ],
      "execution_count": null,
      "outputs": []
    },
    {
      "cell_type": "code",
      "metadata": {
        "id": "Eh7MI3KLBxfr",
        "colab_type": "code",
        "colab": {}
      },
      "source": [
        "'Music' in embed_list"
      ],
      "execution_count": null,
      "outputs": []
    },
    {
      "cell_type": "code",
      "metadata": {
        "id": "APz_lwHhAgSa",
        "colab_type": "code",
        "colab": {}
      },
      "source": [
        "embed_list[:170]"
      ],
      "execution_count": null,
      "outputs": []
    },
    {
      "cell_type": "code",
      "metadata": {
        "id": "HmmNcf9TAlTw",
        "colab_type": "code",
        "colab": {}
      },
      "source": [
        "'Security GUard' in embed_list"
      ],
      "execution_count": null,
      "outputs": []
    },
    {
      "cell_type": "code",
      "metadata": {
        "id": "sck5Zh-fAvuk",
        "colab_type": "code",
        "colab": {}
      },
      "source": [
        ""
      ],
      "execution_count": null,
      "outputs": []
    }
  ]
}