{
  "nbformat": 4,
  "nbformat_minor": 0,
  "metadata": {
    "colab": {
      "name": "Chameleon_Embeddings.ipynb",
      "provenance": [],
      "private_outputs": true,
      "collapsed_sections": [],
      "authorship_tag": "ABX9TyMUlz5Ycb84yBhmMQcu/xmQ"
    },
    "kernelspec": {
      "name": "python3",
      "display_name": "Python 3"
    },
    "accelerator": "GPU"
  },
  "cells": [
    {
      "cell_type": "code",
      "metadata": {
        "id": "SBcV7qUGVqCV",
        "colab_type": "code",
        "colab": {}
      },
      "source": [
        "import tensorflow as tf\n",
        "import tensorflow_hub as hub\n",
        "import numpy as np\n",
        "from google.colab import drive\n",
        "import dill"
      ],
      "execution_count": null,
      "outputs": []
    },
    {
      "cell_type": "code",
      "metadata": {
        "id": "scnbApphdY4Y",
        "colab_type": "code",
        "colab": {}
      },
      "source": [
        "drive.mount('/content/drive')"
      ],
      "execution_count": null,
      "outputs": []
    },
    {
      "cell_type": "code",
      "metadata": {
        "id": "TJxzbjRuVah4",
        "colab_type": "code",
        "colab": {}
      },
      "source": [
        "module_url = \"https://tfhub.dev/google/universal-sentence-encoder-large/5\""
      ],
      "execution_count": null,
      "outputs": []
    },
    {
      "cell_type": "code",
      "metadata": {
        "id": "1SKIe1-RVwZp",
        "colab_type": "code",
        "colab": {}
      },
      "source": [
        "USE_model = hub.load(module_url)"
      ],
      "execution_count": null,
      "outputs": []
    },
    {
      "cell_type": "code",
      "metadata": {
        "id": "asYQDydqWrtx",
        "colab_type": "code",
        "colab": {}
      },
      "source": [
        "with open('/content/drive/My Drive/Chameleon_AI/Pickles/ai_word_bank_list.pkl', 'rb') as pkl:\n",
        "    ai_word_bank_list = dill.load(pkl)"
      ],
      "execution_count": null,
      "outputs": []
    },
    {
      "cell_type": "code",
      "metadata": {
        "id": "VjIz4QIido7_",
        "colab_type": "code",
        "colab": {}
      },
      "source": [
        "with open('/content/drive/My Drive/Chameleon_AI/Pickles/topic_dict.pkl', 'rb') as pkl:\n",
        "    topic_dict = dill.load(pkl)"
      ],
      "execution_count": null,
      "outputs": []
    },
    {
      "cell_type": "code",
      "metadata": {
        "id": "DHCO1vWqg1FC",
        "colab_type": "code",
        "colab": {}
      },
      "source": [
        "def create_embeddings(topic_dict, ai_word_bank_list):\n",
        "    embeddings_dict = {}\n",
        "    counter = 0\n",
        "    for topic in topic_dict:\n",
        "        counter += 1\n",
        "        print(counter)\n",
        "        #print(f\"Embedding topic {topic}\")\n",
        "        embeddings_dict[topic] = USE_model([topic])\n",
        "        for secret_word in topic_dict[topic]:\n",
        "            counter += 1\n",
        "            print(counter)\n",
        "            embeddings_dict[secret_word] = USE_model([secret_word])\n",
        "    for ai_word in ai_word_bank_list:\n",
        "        #print(f\"Embedding AI word {ai_word}.\")\n",
        "        counter +=1\n",
        "        print(counter)\n",
        "        embeddings_dict[ai_word] = USE_model([ai_word])\n",
        "    return embeddings_dict"
      ],
      "execution_count": null,
      "outputs": []
    },
    {
      "cell_type": "code",
      "metadata": {
        "id": "nJM6qo5WiOap",
        "colab_type": "code",
        "colab": {}
      },
      "source": [
        "for key in topic_dict:\n",
        "    print(key)\n",
        "    for element in topic_dict[key]:\n",
        "        print(element)"
      ],
      "execution_count": null,
      "outputs": []
    },
    {
      "cell_type": "code",
      "metadata": {
        "id": "KTbFoI4miWDg",
        "colab_type": "code",
        "colab": {}
      },
      "source": [
        "embeddings_dict = create_embeddings(topic_dict, ai_word_bank_list)"
      ],
      "execution_count": null,
      "outputs": []
    },
    {
      "cell_type": "code",
      "metadata": {
        "id": "tnidP6TSjOhD",
        "colab_type": "code",
        "colab": {}
      },
      "source": [
        "with open('/content/drive/My Drive/Chameleon_AI/Pickles/embeddings_dict.pkl', 'wb') as pkl:\n",
        "    dill.dump(embeddings_dict, pkl)"
      ],
      "execution_count": null,
      "outputs": []
    },
    {
      "cell_type": "code",
      "metadata": {
        "id": "Doe9HNC9vW1X",
        "colab_type": "code",
        "colab": {}
      },
      "source": [
        "test_embeddings_dict = {}\n",
        "for word in topic_dict:\n",
        "    test_embeddings_dict[word] = USE_model([word])"
      ],
      "execution_count": null,
      "outputs": []
    }
  ]
}