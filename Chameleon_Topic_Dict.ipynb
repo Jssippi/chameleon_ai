{
  "nbformat": 4,
  "nbformat_minor": 0,
  "metadata": {
    "colab": {
      "name": "Chameleon_Topic_Dict.ipynb",
      "provenance": [],
      "private_outputs": true,
      "collapsed_sections": [],
      "mount_file_id": "1pP4uTXBFPDR4cE6AsPRE1xjcILfoPOut",
      "authorship_tag": "ABX9TyNMkqKElbO1/BlSJv3lI0+6"
    },
    "kernelspec": {
      "name": "python3",
      "display_name": "Python 3"
    }
  },
  "cells": [
    {
      "cell_type": "code",
      "metadata": {
        "id": "hvO5a_H6SsLU",
        "colab_type": "code",
        "colab": {}
      },
      "source": [
        "pip install pyspellchecker"
      ],
      "execution_count": null,
      "outputs": []
    },
    {
      "cell_type": "code",
      "metadata": {
        "id": "i1aZiAmGu-sy",
        "colab_type": "code",
        "colab": {}
      },
      "source": [
        "from spellchecker import SpellChecker\n",
        "import datetime\n",
        "from google.colab import drive\n",
        "from google.colab import files\n",
        "import dill"
      ],
      "execution_count": null,
      "outputs": []
    },
    {
      "cell_type": "code",
      "metadata": {
        "id": "hg2TUlh2HcgQ",
        "colab_type": "code",
        "colab": {}
      },
      "source": [
        "drive.mount('/content/drive')"
      ],
      "execution_count": null,
      "outputs": []
    },
    {
      "cell_type": "code",
      "metadata": {
        "id": "hYKSNxIMHgtw",
        "colab_type": "code",
        "colab": {}
      },
      "source": [
        "#!ls \"/content/drive/My Drive/Colab Notebooks\""
      ],
      "execution_count": null,
      "outputs": []
    },
    {
      "cell_type": "code",
      "metadata": {
        "id": "irjdrCXUUchY",
        "colab_type": "code",
        "colab": {}
      },
      "source": [
        "spell_checker = SpellChecker()"
      ],
      "execution_count": null,
      "outputs": []
    },
    {
      "cell_type": "code",
      "metadata": {
        "id": "oiRXPfN_IR47",
        "colab_type": "code",
        "colab": {}
      },
      "source": [
        "topic_dict = {}"
      ],
      "execution_count": null,
      "outputs": []
    },
    {
      "cell_type": "code",
      "metadata": {
        "id": "Mxts9jrHdDk7",
        "colab_type": "code",
        "colab": {}
      },
      "source": [
        "def topic_card_builder(topic_name: str, secret_words: list) -> None:\n",
        "    if topic_list_validator(topic_name, secret_words):\n",
        "        if topic_name in topic_dict:\n",
        "            confirm_rewrite = input(f\"Enter 'Y' to rewrite {topic_name} \" \\\n",
        "                                     \"or 'N' to abort dict write. \")\n",
        "            if confirm_rewrite == 'Y':\n",
        "                print(f\"Rewriting {topic_name}.\")\n",
        "                topic_dict[topic_name] = secret_words\n",
        "            \n",
        "            elif confirm_rewrite == 'N':\n",
        "                print(f\"Rewrite for {topic_name} aborted.\")\n",
        "            \n",
        "            else:\n",
        "                print(f\"Error: you entered {confirm_rewrite}. No changes made.\")\n",
        "        else:\n",
        "            print(f\"Topic {topic_name} was added to the dictionary \" \\\n",
        "                  f\"with the following secret words: \\n{secret_words}\")\n",
        "            topic_dict[topic_name] = secret_words\n",
        "    else:\n",
        "        print(\"No changes made to topic card dictionary.\")"
      ],
      "execution_count": null,
      "outputs": []
    },
    {
      "cell_type": "code",
      "metadata": {
        "id": "zwoOWJyPSPVs",
        "colab_type": "code",
        "colab": {}
      },
      "source": [
        "def topic_list_validator(topic_name: str, secret_words: list) -> bool:\n",
        "    if spell_checker.known(topic_name):\n",
        "        print(f\"Topic {topic_name} passed.\")\n",
        "        \n",
        "        if len(spell_checker.known(secret_words)) == 16:\n",
        "            print(\"Spellcheck passed. List has 16 recognized words.\")\n",
        "            return True\n",
        "\n",
        "        else:\n",
        "            print(f\"Spellcheck failed. {len(secret_words)} elements and \" \\\n",
        "                f\"{len(spell_checker.known(secret_words))} known words.\" \\\n",
        "                f\"\\n{spell_checker.unknown(secret_words)} not recognized.\")\n",
        "            failure_override = input(\"Do you want to continue anyway?\\n\" \n",
        "                                  \"'Y' to continue 'N' to abort:\")\n",
        "            if failure_override == 'Y':\n",
        "                print(\"Overriding spellcheck. Continuing with topic card build.\")\n",
        "                return True\n",
        "        \n",
        "            elif failure_override == 'N':\n",
        "                print(\"Topic card build halted.\")\n",
        "                return False\n",
        "\n",
        "            else:\n",
        "                print(f\"Did not recognize command {failure_override} aborting.\")\n",
        "                return False\n",
        "    else:\n",
        "        print(f\"Spellcheck failed. Topic {topic_name} not recognized.\")\n",
        "        failure_override = input(\"Do you want to continue anyway?\\n\" \n",
        "                                  \"'Y' to continue 'N' to abort:\")\n",
        "        if failure_override == 'Y':\n",
        "            print(\"Overriding spellcheck. Continuing with topic card build.\")\n",
        "            return True\n",
        "        \n",
        "        elif failure_override == 'N':\n",
        "            print(\"Topic card build halted.\")\n",
        "            return False\n",
        "\n",
        "        else:\n",
        "            print(f\"Did not recognize command {failure_overide} aborting.\")\n",
        "            return False"
      ],
      "execution_count": null,
      "outputs": []
    },
    {
      "cell_type": "code",
      "metadata": {
        "id": "LDckoGVKOb-T",
        "colab_type": "code",
        "colab": {}
      },
      "source": [
        "school_topic_list = ['Math', 'Chemistry', 'Physics', 'Biology',\n",
        "                     'History','Philosophy', 'Geography', 'English',\n",
        "                     'Economics', 'Spanish', 'Art', 'Music',\n",
        "                     'Gym', 'Latin', 'Religion', 'Technology']\n",
        "                     \n",
        "topic_card_builder('School', school_topic_list)"
      ],
      "execution_count": null,
      "outputs": []
    },
    {
      "cell_type": "code",
      "metadata": {
        "id": "74zJxJ78SyNw",
        "colab_type": "code",
        "colab": {}
      },
      "source": [
        "tattoos_topic_list = ['Stars', 'Angel', 'Wings', 'Dragon',\n",
        "                      'Eagle', 'Fairy', 'Heart', 'Skull',\n",
        "                      'Sword', 'Tiger', 'Swallows', 'Flower',\n",
        "                      'Butterfly', 'Cross', 'Owl', 'Anchor']\n",
        "topic_card_builder('Tattoos', tattoos_topic_list)"
      ],
      "execution_count": null,
      "outputs": []
    },
    {
      "cell_type": "code",
      "metadata": {
        "id": "n1yO0Sc7nFbD",
        "colab_type": "code",
        "colab": {}
      },
      "source": [
        "the_arts_topic_list = ['Painting', 'Sculpture', 'Architecture', 'Dance',\n",
        "                       'Literature', 'Opera', 'Stand-up', 'Comic Books',\n",
        "                       'Illustration', 'Music', 'Theatre', 'Cinema',\n",
        "                       'Video Games', 'Graffiti', 'Fashion', 'Photography']\n",
        "topic_card_builder('The Arts', the_arts_topic_list)"
      ],
      "execution_count": null,
      "outputs": []
    },
    {
      "cell_type": "code",
      "metadata": {
        "id": "m6_fj2u9sjB5",
        "colab_type": "code",
        "colab": {}
      },
      "source": [
        "food_topic_list = ['Pizza', 'Potatoes', 'Fish', 'Cake',\n",
        "                   'Pasta', 'Salad', 'Soup', 'Bread',\n",
        "                   'Eggs', 'Cheese', 'Fruit', 'Chicken',\n",
        "                   'Sausage', 'Ice Cream', 'Chocolate', 'Beef']\n",
        "topic_card_builder('Food', food_topic_list)"
      ],
      "execution_count": null,
      "outputs": []
    },
    {
      "cell_type": "code",
      "metadata": {
        "id": "FMCobtdCwXru",
        "colab_type": "code",
        "colab": {}
      },
      "source": [
        "transport_topic_list = ['Plane', 'Car', 'Tank', 'Helicopter',\n",
        "                        'Cruise Ship', 'Hovercraft', 'Motorbike', 'Bus',\n",
        "                        'Segway', 'Cable Car', 'Jet Ski', 'Hot Air Balloon',\n",
        "                        'Train', 'Spaceship', 'Magic Carpet', 'Broomstick']\n",
        "topic_card_builder('Transport', transport_topic_list)"
      ],
      "execution_count": null,
      "outputs": []
    },
    {
      "cell_type": "code",
      "metadata": {
        "id": "jXoOhtbzw9In",
        "colab_type": "code",
        "colab": {}
      },
      "source": [
        "phobias_topic_list = ['Ghosts', 'Spiders', 'Monsters', 'Rats',\n",
        "                      'Toilets', 'Snakes', 'Germs', 'Clowns',\n",
        "                      'Needles', 'Dogs', 'Birds', 'Insects',\n",
        "                      'Children', 'Shadows', 'Roller Coasters', 'Planes']\n",
        "topic_card_builder('Phobias', phobias_topic_list)"
      ],
      "execution_count": null,
      "outputs": []
    },
    {
      "cell_type": "code",
      "metadata": {
        "id": "-NWILqwpzf-G",
        "colab_type": "code",
        "colab": {}
      },
      "source": [
        "rooms_topic_list = ['Kitchen', 'Hallway', 'Greenhouse', 'Bedroom',\n",
        "                    'Bathroom', 'Dining Room', 'Office', 'Living Room',\n",
        "                    'Attic', 'Basement', 'Porch', 'Nursery',\n",
        "                    'Den', 'Bunker', 'Shed', 'Garage']\n",
        "topic_card_builder('Rooms', rooms_topic_list)"
      ],
      "execution_count": null,
      "outputs": []
    },
    {
      "cell_type": "code",
      "metadata": {
        "id": "SXYBrLcYz4pB",
        "colab_type": "code",
        "colab": {}
      },
      "source": [
        "drinks_topic_list = ['Coffee', 'Tea', 'Lemonade', 'Coca-Cola',\n",
        "                     'Wine', 'Beer', 'Punch', 'Tequila',\n",
        "                     'Hot Chocolate', 'Milkshake', 'Root Beer', 'Water',\n",
        "                     'Smoothie', 'Orange Juice', 'Milk', 'Champagne']\n",
        "topic_card_builder('Drinks', drinks_topic_list)"
      ],
      "execution_count": null,
      "outputs": []
    },
    {
      "cell_type": "code",
      "metadata": {
        "id": "aDg4zH4l0RhH",
        "colab_type": "code",
        "colab": {}
      },
      "source": [
        "inventions_topic_list = ['Matches', 'Gunpowder', 'Wheel', 'Printing',\n",
        "                         'Computer', 'Internet', 'Compass', 'Plane',\n",
        "                         'TV', 'Electricity', 'Writing', 'Steam Engine',\n",
        "                         'Car', 'Telephone', 'Camera', 'Radio']\n",
        "topic_card_builder('Inventions', inventions_topic_list)"
      ],
      "execution_count": null,
      "outputs": []
    },
    {
      "cell_type": "code",
      "metadata": {
        "id": "6O2BCasz1nyQ",
        "colab_type": "code",
        "colab": {}
      },
      "source": [
        "jobs_topic_list = ['Fisherman', 'Lumberjack', 'Nurse', 'Waiter',\n",
        "                   'Janitor', 'Secretary', 'Accountant', 'Teacher',\n",
        "                   'Truck Driver', 'Security Guard', 'Chef', 'Architect',\n",
        "                   'Police Officer', 'Lawyer', 'Carpenter', 'Butcher']\n",
        "topic_card_builder('Jobs', jobs_topic_list)"
      ],
      "execution_count": null,
      "outputs": []
    },
    {
      "cell_type": "code",
      "metadata": {
        "id": "lrSJfzan2FEC",
        "colab_type": "code",
        "colab": {}
      },
      "source": [
        "current_time = datetime.datetime.now()\n",
        "timestamp = current_time.strftime('%c')\n",
        "\n",
        "with open(f'/content/drive/My Drive/Chameleon_AI/Pickles/{len(topic_dict.keys())}_Topics_{timestamp}_topic_dict.pkl', 'wb') as pkl:\n",
        "    dill.dump(topic_dict, pkl)\n",
        "with open('/content/drive/My Drive/Chameleon_AI/Pickles/topic_dict.pkl', 'wb') as pkl:\n",
        "    dill.dump(topic_dict, pkl)"
      ],
      "execution_count": null,
      "outputs": []
    },
    {
      "cell_type": "code",
      "metadata": {
        "id": "w1L3oHNefewf",
        "colab_type": "code",
        "colab": {}
      },
      "source": [
        ""
      ],
      "execution_count": null,
      "outputs": []
    }
  ]
}